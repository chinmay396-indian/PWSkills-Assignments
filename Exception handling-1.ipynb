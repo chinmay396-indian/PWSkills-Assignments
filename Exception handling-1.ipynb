{
 "cells": [
  {
   "cell_type": "markdown",
   "id": "3b5aa432-d41f-44a6-b407-e7661df1f907",
   "metadata": {},
   "source": [
    "Q1. what is an Exception in Python? What is the difference between an Exception and Syntax Error?"
   ]
  },
  {
   "cell_type": "markdown",
   "id": "c1ff25f3-3da2-44d4-b878-e54f4e9f328d",
   "metadata": {},
   "source": [
    "In Python, Exception is an event which is caused due to unintended causes like memory running out, unable to find a given file, index out of the bound. Exception disturbs the normal execution and causes the code to crash if not handled.\n",
    "\n",
    "Syntax error is an error which is thrown due to non-adherence to the code structure and is detected by Interpretor whereas, Exception is not caused due to coding mistake but due to causes that can be handled using Exception handling mechanism of the programming language"
   ]
  },
  {
   "cell_type": "markdown",
   "id": "2add05c7-ae80-41ca-a4fb-f48c0dca4e43",
   "metadata": {},
   "source": [
    "Q2. What happens when an exception is not handled? Explain with an example"
   ]
  },
  {
   "cell_type": "markdown",
   "id": "770ec95a-5510-41fd-ab0c-9483cd8a9b01",
   "metadata": {},
   "source": [
    "When an Exception is not handled, Interpretor will throw an error which will disrupt the further execution and thus will crash the program without giving the desired output.\n",
    "\n",
    "Example: Consider a program which is intended to read a file and write its content into another file. we provide an invalid file path for reading. If this program is implemented without Exception handling mechanism, it will throw an error and will abort the further execution."
   ]
  },
  {
   "cell_type": "markdown",
   "id": "3e4db506-dc68-4059-a3c1-a2fb6cd061b5",
   "metadata": {},
   "source": [
    "Q3. Which Python statements are used to catch and handle the exceptions? Explain with an Example"
   ]
  },
  {
   "cell_type": "markdown",
   "id": "c8cd8bcd-b9ae-4f35-9602-5511fa7ff23c",
   "metadata": {},
   "source": [
    "Python statements that are used in Exception handling are: try, except, else, finally\n"
   ]
  },
  {
   "cell_type": "code",
   "execution_count": 12,
   "id": "d7416490-d57b-4130-8115-43e0a8daded4",
   "metadata": {},
   "outputs": [
    {
     "name": "stdin",
     "output_type": "stream",
     "text": [
      "Enter a number 1\n"
     ]
    },
    {
     "name": "stdout",
     "output_type": "stream",
     "text": [
      "Answer is 4.0\n",
      "Finally block has been executed\n"
     ]
    }
   ],
   "source": [
    "try:\n",
    "    a = int(input(\"Enter a number\"))\n",
    "    b = 4/a\n",
    "except Exception as e:\n",
    "    print(\"Please provide a non-zero number\")\n",
    "else:\n",
    "    print(f\"Answer is {b}\")\n",
    "finally:\n",
    "    print(\"Finally block has been executed\")"
   ]
  },
  {
   "cell_type": "markdown",
   "id": "2a3da95e-445e-4f82-99a3-9f56c800ab1c",
   "metadata": {},
   "source": [
    "Q4. Explain with an example\n",
    "try and else\n",
    "raise\n",
    "finally"
   ]
  },
  {
   "cell_type": "code",
   "execution_count": 27,
   "id": "21f4ef13-5060-4be2-be06-0bd02d3fd3b8",
   "metadata": {},
   "outputs": [
    {
     "name": "stdin",
     "output_type": "stream",
     "text": [
      "Enter a number 2\n"
     ]
    },
    {
     "name": "stdout",
     "output_type": "stream",
     "text": [
      "Answer is 2.0\n",
      "Finally block has been executed\n"
     ]
    }
   ],
   "source": [
    "try:\n",
    "    a = int(input(\"Enter a number\"))\n",
    "    if a==0:\n",
    "        raise Exception.message\n",
    "    b = 4/a\n",
    "except Exception as e:\n",
    "    print(\"Please provide a non-zero number\")\n",
    "else:\n",
    "    print(f\"Answer is {b}\")\n",
    "finally:\n",
    "    print(\"Finally block has been executed\")"
   ]
  },
  {
   "cell_type": "markdown",
   "id": "28e40227-a0f2-4b81-bb9d-da533638c6b9",
   "metadata": {},
   "source": [
    "Q5. What are Custom Exceptions in Python? Why do we need Custom Exceptions? Explain with an Example"
   ]
  },
  {
   "cell_type": "markdown",
   "id": "e61281cd-3227-4086-bd68-2a1fedc658ce",
   "metadata": {},
   "source": [
    "Python has classes of built in Exceptions. But in real world, there are scenarios, wherein user faces a exceptions which arent handled by the built in exception mechanism.\n",
    "In such scenarios, user can build the exception hadling mechanism as per the exception that might occur or cause the program to crash."
   ]
  },
  {
   "cell_type": "code",
   "execution_count": 14,
   "id": "9010cd62-b5ef-41ed-baf8-b765da5ffbe1",
   "metadata": {},
   "outputs": [
    {
     "name": "stdin",
     "output_type": "stream",
     "text": [
      "Enter a number 3\n"
     ]
    },
    {
     "name": "stdout",
     "output_type": "stream",
     "text": [
      "This is an odd number\n"
     ]
    }
   ],
   "source": [
    "class odd_number_exception(Exception):\n",
    "    pass\n",
    "def even_number_detector(num):\n",
    "    if num%2 == 0:\n",
    "        print(\"Even number\")\n",
    "    else:\n",
    "        raise odd_number_exception(\"This is an odd number\")\n",
    "        \n",
    "try:\n",
    "    n = int(input(\"Enter a number\"))\n",
    "    even_number_detector(n)\n",
    "except odd_number_exception as e:\n",
    "    print(e)\n",
    "        "
   ]
  },
  {
   "cell_type": "markdown",
   "id": "ff7f9572-8e14-4a57-85cf-7a49bd6ac0d7",
   "metadata": {},
   "source": [
    "Q6. Create a custom exception class. Use this class to handle an exception."
   ]
  },
  {
   "cell_type": "code",
   "execution_count": null,
   "id": "bc2afaa5-b6ae-4dfc-b2e5-607c11646a26",
   "metadata": {},
   "outputs": [],
   "source": [
    "class odd_number_exception(Exception):\n",
    "    pass\n",
    "def even_number_detector(num):\n",
    "    if num%2 == 0:\n",
    "        print(\"Even number\")\n",
    "    else:\n",
    "        raise odd_number_exception(\"This is an odd number\")\n",
    "        \n",
    "try:\n",
    "    n = int(input(\"Enter a number\"))\n",
    "    even_number_detector(n)\n",
    "except odd_number_exception as e:\n",
    "    print(e)\n",
    "        "
   ]
  }
 ],
 "metadata": {
  "kernelspec": {
   "display_name": "Python 3 (ipykernel)",
   "language": "python",
   "name": "python3"
  },
  "language_info": {
   "codemirror_mode": {
    "name": "ipython",
    "version": 3
   },
   "file_extension": ".py",
   "mimetype": "text/x-python",
   "name": "python",
   "nbconvert_exporter": "python",
   "pygments_lexer": "ipython3",
   "version": "3.10.8"
  }
 },
 "nbformat": 4,
 "nbformat_minor": 5
}
