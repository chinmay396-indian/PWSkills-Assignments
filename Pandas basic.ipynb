{
 "cells": [
  {
   "cell_type": "markdown",
   "id": "9e9c66ba-b7f6-4a7c-af27-8fee5b37b212",
   "metadata": {},
   "source": [
    "Q1. Create a Pandas Series that contains the following data: 4, 8, 15, 16, 23, and 42. Then, print the series."
   ]
  },
  {
   "cell_type": "code",
   "execution_count": null,
   "id": "1062496c-c057-4c82-b031-d0e9a9422d0f",
   "metadata": {},
   "outputs": [],
   "source": [
    "import pandas as pd\n",
    "\n",
    "data = [4, 8, 15, 16, 23, 42]\n",
    "series = pd.Series(data)\n",
    "\n",
    "print(series)"
   ]
  },
  {
   "cell_type": "markdown",
   "id": "b0bb38f3-12b6-4905-9a8e-f59db3986719",
   "metadata": {},
   "source": [
    "Q2. Create a variable of list type containing 10 elements in it, and apply pandas.Series function on the\n",
    "variable print it."
   ]
  },
  {
   "cell_type": "code",
   "execution_count": null,
   "id": "6243fc42-edd9-4d21-af79-a752fafb949f",
   "metadata": {},
   "outputs": [],
   "source": [
    "import pandas as pd\n",
    "\n",
    "my_list = [1, 2, 3, 4, 5, 6, 7, 8, 9, 10]\n",
    "series = pd.Series(my_list)\n",
    "\n",
    "print(series)\n"
   ]
  },
  {
   "cell_type": "markdown",
   "id": "b236b61c-79de-4e4a-8d38-09c30034ed38",
   "metadata": {},
   "source": [
    "Q3. Create a Pandas DataFrame that contains the following data:\n",
    "\n",
    "Then, print the DataFrame."
   ]
  },
  {
   "cell_type": "code",
   "execution_count": 4,
   "id": "92869e52-09fb-451b-aa7f-7404f741cfdf",
   "metadata": {},
   "outputs": [
    {
     "name": "stdout",
     "output_type": "stream",
     "text": [
      "     Name  Age  Gender\n",
      "0   Alice   25  Female\n",
      "1     Bob   30    Male\n",
      "2  Claire   27  Female\n"
     ]
    }
   ],
   "source": [
    "import pandas as pd\n",
    "data = { 'Name' : ['Alice', 'Bob', 'Claire'],\n",
    "        'Age' : [25,30,27],\n",
    "        'Gender' : ['Female','Male','Female']}\n",
    "df = pd.DataFrame(data)\n",
    "print(df)"
   ]
  },
  {
   "cell_type": "markdown",
   "id": "e0ec0938-b213-4201-b8c3-6d1391f7417d",
   "metadata": {},
   "source": [
    "Q4. What is ‘DataFrame’ in pandas and how is it different from pandas.series? Explain with an example."
   ]
  },
  {
   "cell_type": "markdown",
   "id": "ade8a232-7862-4fe0-a80d-ea92221a1013",
   "metadata": {},
   "source": [
    "In Pandas, a DataFrame is a 2-dimensional labeled data structure with columns of potentially different types. It is similar to a spreadsheet or SQL table, where data is organized in rows and columns. Each column in a DataFrame is a Pandas Series.\n",
    "\n",
    "A Pandas Series, on the other hand, is a one-dimensional labeled array that can hold any data type such as integers, strings, or even Python objects. It is similar to a column in a spreadsheet or a SQL table."
   ]
  },
  {
   "cell_type": "code",
   "execution_count": null,
   "id": "07ceaf35-d427-4ba5-a014-0bdd137891e6",
   "metadata": {},
   "outputs": [],
   "source": [
    "import pandas as pd\n",
    "\n",
    "# create a dictionary of data\n",
    "data = {'Name': ['Alice', 'Bob', 'Claire'], 'Age': [25, 30, 27], 'Gender': ['Female', 'Male', 'Female']}\n",
    "\n",
    "# create a DataFrame from the dictionary\n",
    "df = pd.DataFrame(data)\n",
    "\n",
    "# create a Series from the 'Name' column of the DataFrame\n",
    "name_series = df['Name']\n",
    "\n",
    "# print the DataFrame and Series\n",
    "print(\"DataFrame:\")\n",
    "print(df)\n",
    "print(\"\\nSeries:\")\n",
    "print(name_series)\n"
   ]
  },
  {
   "cell_type": "markdown",
   "id": "0f2b214d-e273-4ea0-b0c9-5d4f26fe14ef",
   "metadata": {},
   "source": [
    "Q5. What are some common functions you can use to manipulate data in a Pandas DataFrame? Can\n",
    "you give an example of when you might use one of these functions?"
   ]
  },
  {
   "cell_type": "markdown",
   "id": "bbad8850-6f05-4ba3-88b7-71e2b3827a05",
   "metadata": {},
   "source": [
    "Pandas provides a wide range of functions to manipulate data in a DataFrame. Some common functions are:\n",
    "\n",
    "head(): This function returns the first n rows of the DataFrame. It is useful for quickly checking the structure of the data."
   ]
  },
  {
   "cell_type": "code",
   "execution_count": null,
   "id": "b74861fa-125f-4556-8ec4-236d4a98d9dd",
   "metadata": {},
   "outputs": [],
   "source": [
    "import pandas as pd\n",
    "\n",
    "# create a DataFrame from a list of dictionaries\n",
    "data = [{'Name': 'Alice', 'Age': 25, 'Gender': 'Female'},\n",
    "        {'Name': 'Bob', 'Age': 30, 'Gender': 'Male'},\n",
    "        {'Name': 'Claire', 'Age': 27, 'Gender': 'Female'}]\n",
    "df = pd.DataFrame(data)\n",
    "\n",
    "# display the first 2 rows of the DataFrame\n",
    "print(df.head(2))\n"
   ]
  },
  {
   "cell_type": "markdown",
   "id": "521a8b76-a6cc-4710-ab7a-e962a5857250",
   "metadata": {},
   "source": [
    "Q6. Which of the following is mutable in nature Series, DataFrame, Panel?"
   ]
  },
  {
   "cell_type": "markdown",
   "id": "9e5819fd-d12b-4be4-bae5-dda89eba636a",
   "metadata": {},
   "source": [
    "Both Series and DataFrame are mutable in nature, meaning that the data they contain can be modified after creation. On the other hand, Panel has been deprecated and replaced by MultiIndex objects, which are also mutable. However, it is important to note that modifying a DataFrame or Series in-place can have unintended consequences and should be done with caution. It is often safer to create a new object with the desired modifications rather than modifying the original object directly."
   ]
  },
  {
   "cell_type": "code",
   "execution_count": null,
   "id": "15812fb4-a5f3-42a4-a4d9-49496d9de123",
   "metadata": {},
   "outputs": [],
   "source": [
    "Q7. Create a DataFrame using multiple Series. Explain with an example."
   ]
  },
  {
   "cell_type": "code",
   "execution_count": 11,
   "id": "7350baa2-08a9-4c1b-bc0d-e0c4de0fbc14",
   "metadata": {},
   "outputs": [
    {
     "name": "stdout",
     "output_type": "stream",
     "text": [
      "       emp  age    education\n",
      "0  Chinmay   25  BSc,BSc,HSC\n",
      "1    Ameya   25          NaN\n",
      "2  Shubham   22          NaN\n"
     ]
    }
   ],
   "source": [
    "import pandas as pd\n",
    "emp = pd.Series([\"Chinmay\",\"Ameya\",\"Shubham\"], name = 'employee')\n",
    "age = pd.Series([25,25,22], name='age')\n",
    "education = pd.Series(['BSc','BSc','HSC'], name = 'edu')\n",
    "df = pd.DataFrame({'emp' : emp, 'age' : age, 'education' : education})\n",
    "print(df)\n"
   ]
  }
 ],
 "metadata": {
  "kernelspec": {
   "display_name": "Python 3 (ipykernel)",
   "language": "python",
   "name": "python3"
  },
  "language_info": {
   "codemirror_mode": {
    "name": "ipython",
    "version": 3
   },
   "file_extension": ".py",
   "mimetype": "text/x-python",
   "name": "python",
   "nbconvert_exporter": "python",
   "pygments_lexer": "ipython3",
   "version": "3.10.8"
  }
 },
 "nbformat": 4,
 "nbformat_minor": 5
}
