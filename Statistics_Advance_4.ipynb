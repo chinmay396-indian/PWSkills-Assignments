{
  "nbformat": 4,
  "nbformat_minor": 0,
  "metadata": {
    "colab": {
      "provenance": [],
      "authorship_tag": "ABX9TyMlBZLln/52SO+hLoV2vxCP",
      "include_colab_link": true
    },
    "kernelspec": {
      "name": "python3",
      "display_name": "Python 3"
    },
    "language_info": {
      "name": "python"
    }
  },
  "cells": [
    {
      "cell_type": "markdown",
      "metadata": {
        "id": "view-in-github",
        "colab_type": "text"
      },
      "source": [
        "<a href=\"https://colab.research.google.com/github/chinmay396-indian/PWSkills-Assignments/blob/main/Statistics_Advance_4.ipynb\" target=\"_parent\"><img src=\"https://colab.research.google.com/assets/colab-badge.svg\" alt=\"Open In Colab\"/></a>"
      ]
    },
    {
      "cell_type": "markdown",
      "source": [
        "Q1: What is the difference between a t-test and a z-test? Provide an example scenario where you would\n",
        "use each type of test."
      ],
      "metadata": {
        "id": "qlokAykyPR4-"
      }
    },
    {
      "cell_type": "markdown",
      "source": [
        "A t-test and a z-test are both statistical tests used to determine the significance of differences between two sample means, but they differ in the assumptions they make about the population and the sample size.\n",
        "\n",
        "A z-test is used when the population standard deviation is known, and the sample size is large (typically n > 30). The z-test assumes that the sampling distribution of the means is normally distributed, and it uses the standard normal distribution to calculate the probability of obtaining a sample mean as extreme or more extreme than the one observed.\n",
        "\n",
        "For example, if a researcher wants to test whether the average height of adult men in a particular country is significantly different from the average height of men in another country, and the population standard deviation of heights is known, a z-test can be used to determine whether the difference in sample means is statistically significant.\n",
        "\n",
        "On the other hand, a t-test is used when the population standard deviation is unknown and must be estimated from the sample, or when the sample size is small (typically n < 30). The t-test assumes that the sampling distribution of the means follows a t-distribution, which has fatter tails than the normal distribution, to account for the added uncertainty of estimating the population standard deviation from the sample.\n",
        "\n",
        "For example, if a researcher wants to test whether a new medication reduces the average blood pressure of patients, and the sample size is small, a t-test can be used to determine whether the difference in sample means is statistically significant.\n",
        "\n",
        "In summary, a z-test is appropriate when the population standard deviation is known and the sample size is large, while a t-test is appropriate when the population standard deviation is unknown or the sample size is small.\n",
        "\n",
        "\n",
        "\n"
      ],
      "metadata": {
        "id": "TsycUVXkPSAE"
      }
    },
    {
      "cell_type": "markdown",
      "source": [
        "Q2: Differentiate between one-tailed and two-tailed tests."
      ],
      "metadata": {
        "id": "xdeymLhyPYo4"
      }
    },
    {
      "cell_type": "markdown",
      "source": [
        "A hypothesis test can be either a one-tailed or a two-tailed test, depending on the research question and the direction of the alternative hypothesis.\n",
        "\n",
        "A two-tailed test is a statistical test in which the alternative hypothesis is that the parameter being tested is not equal to a specified value, and the test considers the possibility of the parameter being either greater than or less than the specified value. The null hypothesis is that the parameter is equal to the specified value. The significance level, denoted by α, is split between the two tails of the sampling distribution of the test statistic, as the rejection region is defined by extreme values in both directions.\n",
        "\n",
        "For example, if a researcher wants to test whether the mean score on a standardized test is significantly different from a population mean of 75, a two-tailed test would be appropriate. The null hypothesis would be that the mean score is equal to 75, while the alternative hypothesis would be that the mean score is not equal to 75.\n",
        "\n",
        "In contrast, a one-tailed test is a statistical test in which the alternative hypothesis is directional, meaning it specifies either an increase or a decrease in the parameter being tested, relative to the null hypothesis. The null hypothesis is that the parameter is equal to a specified value, and the alternative hypothesis is that the parameter is either greater than or less than the specified value, but not both. The significance level, denoted by α, is all allocated to one tail of the sampling distribution of the test statistic, depending on the direction specified by the alternative hypothesis.\n",
        "\n",
        "For example, if a researcher wants to test whether a new treatment reduces the average duration of symptoms of a disease, a one-tailed test would be appropriate. The null hypothesis would be that the average duration of symptoms is equal to or greater than the duration with the existing treatment, while the alternative hypothesis would be that the average duration of symptoms is less than with the existing treatment.\n",
        "\n",
        "In summary, the main difference between one-tailed and two-tailed tests is the directionality of the alternative hypothesis and the allocation of the significance level to one or both tails of the sampling distribution of the test statistic. A two-tailed test is appropriate when the research question does not specify a direction of effect, while a one-tailed test is appropriate when the research question does specify a direction of effect."
      ],
      "metadata": {
        "id": "LfBADQjVQMEA"
      }
    },
    {
      "cell_type": "markdown",
      "source": [
        "Q3: Explain the concept of Type 1 and Type 2 errors in hypothesis testing. Provide an example scenario for\n",
        "each type of error."
      ],
      "metadata": {
        "id": "zFll99tRRyep"
      }
    },
    {
      "cell_type": "markdown",
      "source": [
        "In hypothesis testing, two types of errors can occur: Type 1 error and Type 2 error.\n",
        "\n",
        "Type 1 error, also known as a false positive, occurs when the null hypothesis is rejected when it is actually true. This means that the test concludes that there is a significant effect or relationship, when in fact there is no such effect or relationship in the population. Type 1 error is denoted by the symbol α and represents the probability of rejecting the null hypothesis when it is actually true.\n",
        "\n",
        "For example, suppose a pharmaceutical company conducts a clinical trial to test a new drug's efficacy in treating a specific condition. The null hypothesis is that the drug is not effective, while the alternative hypothesis is that the drug is effective. If the company rejects the null hypothesis based on the trial's results, and concludes that the drug is effective, but in reality, the drug is not effective, this is an example of a Type 1 error.\n",
        "\n",
        "Type 2 error, also known as a false negative, occurs when the null hypothesis is not rejected when it is actually false. This means that the test concludes that there is no significant effect or relationship, when in fact there is such an effect or relationship in the population. Type 2 error is denoted by the symbol β and represents the probability of failing to reject the null hypothesis when it is actually false.\n",
        "\n",
        "For example, suppose a medical researcher conducts a study to test whether a particular treatment reduces the risk of heart disease. The null hypothesis is that the treatment has no effect on the risk of heart disease, while the alternative hypothesis is that the treatment reduces the risk of heart disease. If the researcher fails to reject the null hypothesis based on the study's results, and concludes that the treatment has no effect on the risk of heart disease, but in reality, the treatment does reduce the risk of heart disease, this is an example of a Type 2 error.\n",
        "\n",
        "In summary, a Type 1 error occurs when the null hypothesis is rejected when it is actually true, while a Type 2 error occurs when the null hypothesis is not rejected when it is actually false. Both types of errors can occur in hypothesis testing, and the probability of making either type of error can be controlled by choosing an appropriate level of significance (α) and statistical power (1-β)."
      ],
      "metadata": {
        "id": "7dIj0e7vUAfk"
      }
    },
    {
      "cell_type": "markdown",
      "source": [
        "Q4: Explain Bayes's theorem with an example."
      ],
      "metadata": {
        "id": "a7M-Gbc9UCJ6"
      }
    },
    {
      "cell_type": "markdown",
      "source": [
        "Bayes's theorem is a statistical formula that relates the probability of an event happening based on prior knowledge and new evidence. It was named after Reverend Thomas Bayes, an 18th-century mathematician and theologian.\n",
        "\n",
        "The formula for Bayes's theorem is as follows:\n",
        "\n",
        "P(A|B) = P(B|A) x P(A) / P(B)\n",
        "\n",
        "Where:\n",
        "\n",
        "P(A|B) is the probability of event A happening given that event B has occurred.\n",
        "P(B|A) is the probability of event B happening given that event A has occurred.\n",
        "P(A) is the prior probability of event A happening.\n",
        "P(B) is the prior probability of event B happening.\n",
        "Here is an example to help illustrate Bayes's theorem:\n",
        "\n",
        "Suppose you are a doctor trying to diagnose a patient who has just tested positive for a rare disease. The disease only affects 1 in 1,000 people, and the test has a false positive rate of 5% (meaning 5% of people without the disease will test positive).\n",
        "\n",
        "Using Bayes's theorem, you can calculate the probability that the patient actually has the disease given the positive test result.\n",
        "\n",
        "Let's use the following notation:\n",
        "\n",
        "A = the patient has the disease\n",
        "B = the patient tests positive for the disease\n",
        "We can calculate P(A) as 1/1000 (since the disease only affects 1 in 1000 people) and P(B|A) as 1 (since the test is 100% accurate for people who have the disease). P(B) is a bit trickier to calculate, but we can use the law of total probability to break it down into two cases:\n",
        "\n",
        "The patient has the disease and tests positive: P(B|A) x P(A) = 1/1000 x 1 = 1/1000\n",
        "The patient does not have the disease but tests positive: P(B|not A) x P(not A) = 0.05 x 999/1000 = 0.04995\n",
        "Therefore, the total probability of testing positive is:\n",
        "\n",
        "P(B) = P(B|A) x P(A) + P(B|not A) x P(not A) = 1/1000 + 0.04995 = 0.05095\n",
        "\n",
        "Finally, we can use Bayes's theorem to calculate the probability that the patient has the disease given the positive test result:\n",
        "\n",
        "P(A|B) = P(B|A) x P(A) / P(B) = 1 x 1/1000 / 0.05095 ≈ 0.019\n",
        "\n",
        "This means that the probability of the patient actually having the disease, given a positive test result, is only about 1.9%. Despite the positive test result, there is still a high likelihood that the patient does not have the disease."
      ],
      "metadata": {
        "id": "pHKRfr3zfFQp"
      }
    },
    {
      "cell_type": "markdown",
      "source": [
        "Q4: Explain Bayes's theorem with an example."
      ],
      "metadata": {
        "id": "wMEXF1eMgv5S"
      }
    },
    {
      "cell_type": "markdown",
      "source": [
        "Bayes's theorem is a statistical formula that relates the probability of an event happening based on prior knowledge and new evidence. It was named after Reverend Thomas Bayes, an 18th-century mathematician and theologian.\n",
        "\n",
        "The formula for Bayes's theorem is as follows:\n",
        "\n",
        "P(A|B) = P(B|A) x P(A) / P(B)\n",
        "\n",
        "Where:\n",
        "\n",
        "P(A|B) is the probability of event A happening given that event B has occurred.\n",
        "P(B|A) is the probability of event B happening given that event A has occurred.\n",
        "P(A) is the prior probability of event A happening.\n",
        "P(B) is the prior probability of event B happening.\n",
        "Here is an example to help illustrate Bayes's theorem:\n",
        "\n",
        "Suppose you are a doctor trying to diagnose a patient who has just tested positive for a rare disease. The disease only affects 1 in 1,000 people, and the test has a false positive rate of 5% (meaning 5% of people without the disease will test positive).\n",
        "\n",
        "Using Bayes's theorem, you can calculate the probability that the patient actually has the disease given the positive test result.\n",
        "\n",
        "Let's use the following notation:\n",
        "\n",
        "A = the patient has the disease\n",
        "B = the patient tests positive for the disease\n",
        "We can calculate P(A) as 1/1000 (since the disease only affects 1 in 1000 people) and P(B|A) as 1 (since the test is 100% accurate for people who have the disease). P(B) is a bit trickier to calculate, but we can use the law of total probability to break it down into two cases:\n",
        "\n",
        "The patient has the disease and tests positive: P(B|A) x P(A) = 1/1000 x 1 = 1/1000\n",
        "The patient does not have the disease but tests positive: P(B|not A) x P(not A) = 0.05 x 999/1000 = 0.04995\n",
        "Therefore, the total probability of testing positive is:\n",
        "\n",
        "P(B) = P(B|A) x P(A) + P(B|not A) x P(not A) = 1/1000 + 0.04995 = 0.05095\n",
        "\n",
        "Finally, we can use Bayes's theorem to calculate the probability that the patient has the disease given the positive test result:\n",
        "\n",
        "P(A|B) = P(B|A) x P(A) / P(B) = 1 x 1/1000 / 0.05095 ≈ 0.019\n",
        "\n",
        "This means that the probability of the patient actually having the disease, given a positive test result, is only about 1.9%. Despite the positive test result, there is still a high likelihood that the patient does not have the disease."
      ],
      "metadata": {
        "id": "flsEqgqHnABO"
      }
    },
    {
      "cell_type": "markdown",
      "source": [
        "Q5: What is a confidence interval? How to calculate the confidence interval, explain with an example."
      ],
      "metadata": {
        "id": "CDWPoU_mvNRb"
      }
    },
    {
      "cell_type": "markdown",
      "source": [
        "A confidence interval is a range of values that is likely to contain the true value of a population parameter, such as a mean or a proportion, with a certain degree of confidence. It is a way of quantifying the uncertainty associated with a statistical estimate based on a sample of data.\n",
        "\n",
        "The confidence interval is calculated based on the sample data and the desired level of confidence, which is typically expressed as a percentage. For example, a 95% confidence interval means that if we were to repeat the sampling process many times, we would expect the true population parameter to be contained within the interval 95% of the time.\n",
        "\n",
        "The formula for calculating a confidence interval depends on the type of parameter being estimated and the distribution of the sample data. For example, if we want to calculate a confidence interval for the mean of a normally distributed population, we can use the following formula:\n",
        "\n",
        "Confidence interval = sample mean ± (z-score x standard error)\n",
        "\n",
        "Where the z-score corresponds to the desired level of confidence and the standard error is the standard deviation of the sample divided by the square root of the sample size.\n",
        "\n",
        "Here is an example to help illustrate how to calculate a confidence interval:\n",
        "\n",
        "Suppose we want to estimate the average height of all students in a university. We take a random sample of 50 students and measure their heights. The sample mean height is 170 cm and the standard deviation is 5 cm.\n",
        "\n",
        "We want to calculate a 95% confidence interval for the population mean height.\n",
        "\n",
        "First, we need to calculate the standard error:\n",
        "\n",
        "Standard error = standard deviation / sqrt(sample size) = 5 / sqrt(50) = 0.707\n",
        "\n",
        "Next, we need to find the z-score corresponding to a 95% confidence level. We can use a z-table or a statistical software to find that the z-score is 1.96.\n",
        "\n",
        "Finally, we can calculate the confidence interval as follows:\n",
        "\n",
        "Confidence interval = sample mean ± (z-score x standard error) = 170 ± (1.96 x 0.707) = (168.62, 171.38)\n",
        "\n",
        "Therefore, we can say with 95% confidence that the true population mean height is between 168.62 cm and 171.38 cm.\n",
        "\n",
        "\n",
        "\n"
      ],
      "metadata": {
        "id": "aENIeGzCvfTv"
      }
    },
    {
      "cell_type": "markdown",
      "source": [
        "Q5: What is a confidence interval? How to calculate the confidence interval, explain with an example."
      ],
      "metadata": {
        "id": "Q96sEzuCvhU_"
      }
    },
    {
      "cell_type": "markdown",
      "source": [
        "A confidence interval is a range of values that is likely to contain the true value of a population parameter, such as a mean or a proportion, with a certain degree of confidence. It is a way of quantifying the uncertainty associated with a statistical estimate based on a sample of data.\n",
        "\n",
        "The confidence interval is calculated based on the sample data and the desired level of confidence, which is typically expressed as a percentage. For example, a 95% confidence interval means that if we were to repeat the sampling process many times, we would expect the true population parameter to be contained within the interval 95% of the time.\n",
        "\n",
        "The formula for calculating a confidence interval depends on the type of parameter being estimated and the distribution of the sample data. For example, if we want to calculate a confidence interval for the mean of a normally distributed population, we can use the following formula:\n",
        "\n",
        "Confidence interval = sample mean ± (z-score x standard error)\n",
        "\n",
        "Where the z-score corresponds to the desired level of confidence and the standard error is the standard deviation of the sample divided by the square root of the sample size.\n",
        "\n",
        "Here is an example to help illustrate how to calculate a confidence interval:\n",
        "\n",
        "Suppose we want to estimate the average height of all students in a university. We take a random sample of 50 students and measure their heights. The sample mean height is 170 cm and the standard deviation is 5 cm.\n",
        "\n",
        "We want to calculate a 95% confidence interval for the population mean height.\n",
        "\n",
        "First, we need to calculate the standard error:\n",
        "\n",
        "Standard error = standard deviation / sqrt(sample size) = 5 / sqrt(50) = 0.707\n",
        "\n",
        "Next, we need to find the z-score corresponding to a 95% confidence level. We can use a z-table or a statistical software to find that the z-score is 1.96.\n",
        "\n",
        "Finally, we can calculate the confidence interval as follows:\n",
        "\n",
        "Confidence interval = sample mean ± (z-score x standard error) = 170 ± (1.96 x 0.707) = (168.62, 171.38)\n",
        "\n",
        "Therefore, we can say with 95% confidence that the true population mean height is between 168.62 cm and 171.38 cm.\n",
        "\n",
        "\n",
        "\n"
      ],
      "metadata": {
        "id": "_9hoylVHwtv6"
      }
    },
    {
      "cell_type": "markdown",
      "source": [
        "Q6. Use Bayes' Theorem to calculate the probability of an event occurring given prior knowledge of the\n",
        "event's probability and new evidence. Provide a sample problem and solution."
      ],
      "metadata": {
        "id": "Rpgi1L1nwv1j"
      }
    },
    {
      "cell_type": "markdown",
      "source": [
        "Bayes' theorem is a mathematical formula used to calculate the probability of an event occurring given prior knowledge of the event's probability and new evidence. It is named after the Reverend Thomas Bayes, who developed the theorem in the 18th century.\n",
        "\n",
        "The formula for Bayes' theorem is:\n",
        "\n",
        "P(A|B) = P(B|A) * P(A) / P(B)\n",
        "\n",
        "Where:\n",
        "P(A|B) is the probability of event A occurring given the new evidence B.\n",
        "P(B|A) is the probability of the new evidence B given that event A has occurred.\n",
        "P(A) is the prior probability of event A occurring.\n",
        "P(B) is the prior probability of the new evidence B occurring.\n",
        "\n",
        "Here's a sample problem to demonstrate how to use Bayes' theorem:\n",
        "\n",
        "Suppose that a certain disease affects 1% of the population. A new test for the disease has been developed that is 95% accurate - that is, if a person has the disease, the test will correctly identify them as having it 95% of the time, and if a person does not have the disease, the test will correctly identify them as not having it 95% of the time. If a person tests positive for the disease, what is the probability that they actually have it?\n",
        "\n",
        "Solution:\n",
        "\n",
        "First, we need to calculate the probability of a person having the disease, which is the prior probability P(A). We are given that the disease affects 1% of the population, so P(A) = 0.01.\n",
        "\n",
        "Next, we need to calculate the probability of testing positive for the disease given that a person actually has it, which is P(B|A). We are given that the test is 95% accurate, so P(B|A) = 0.95.\n",
        "\n",
        "We also need to calculate the probability of testing positive for the disease given that a person does not have it, which is P(B|not A). This is the complement of the accuracy rate, so P(B|not A) = 1 - 0.95 = 0.05.\n",
        "\n",
        "Finally, we need to calculate the probability of testing positive for the disease, which is P(B). This can be calculated using the law of total probability:\n",
        "\n",
        "P(B) = P(B|A) * P(A) + P(B|not A) * P(not A)\n",
        "= 0.95 * 0.01 + 0.05 * 0.99\n",
        "= 0.059\n",
        "\n",
        "Now we can use Bayes' theorem to calculate the probability of a person having the disease given that they tested positive:\n",
        "\n",
        "P(A|B) = P(B|A) * P(A) / P(B)\n",
        "= 0.95 * 0.01 / 0.059\n",
        "= 0.161\n",
        "\n",
        "So the probability that a person actually has the disease given that they tested positive is 16.1%.\n",
        "\n",
        "\n",
        "\n"
      ],
      "metadata": {
        "id": "6VMCCnciV8TW"
      }
    },
    {
      "cell_type": "markdown",
      "source": [
        "Q7. Calculate the 95% confidence interval for a sample of data with a mean of 50 and a standard deviation\n",
        "of 5. Interpret the results."
      ],
      "metadata": {
        "id": "5ThNS5oGWPdg"
      }
    },
    {
      "cell_type": "markdown",
      "source": [
        "To calculate the 95% confidence interval for a sample of data with a mean of 50 and a standard deviation of 5, we need to use the formula:\n",
        "\n",
        "CI = X ± (Z * (σ / sqrt(n)))\n",
        "\n",
        "Where:\n",
        "CI is the confidence interval\n",
        "X is the sample mean\n",
        "Z is the critical value of the standard normal distribution for the desired level of confidence (in this case, 1.96 for 95% confidence)\n",
        "σ is the population standard deviation (which we don't know, so we use the sample standard deviation)\n",
        "n is the sample size\n",
        "\n",
        "Substituting the given values into the formula, we get:\n",
        "\n",
        "CI = 50 ± (1.96 * (5 / sqrt(n)))\n",
        "\n",
        "We don't know the sample size, so let's assume it is 100 for the purposes of this example:\n",
        "\n",
        "CI = 50 ± (1.96 * (5 / sqrt(100)))\n",
        "= 50 ± 0.98\n",
        "\n",
        "So the 95% confidence interval is (49.02, 50.98).\n",
        "\n",
        "Interpreting the results: we are 95% confident that the true population mean lies within the range of (49.02, 50.98). In other words, if we were to take many samples of the same size and calculate their confidence intervals, 95% of those intervals would contain the true population mean. This interval gives us a measure of the precision of our estimate of the population mean based on the sample data."
      ],
      "metadata": {
        "id": "GgO7rDBkXB0_"
      }
    },
    {
      "cell_type": "markdown",
      "source": [
        "Q8. What is the margin of error in a confidence interval? How does sample size affect the margin of error?\n",
        "Provide an example of a scenario where a larger sample size would result in a smaller margin of error."
      ],
      "metadata": {
        "id": "6wtMbFAEiFEJ"
      }
    },
    {
      "cell_type": "markdown",
      "source": [
        "The margin of error in a confidence interval is the range of values above and below the point estimate (usually the sample mean) that is likely to contain the true population parameter with a certain level of confidence. It is typically expressed as a plus or minus value, such as \"±2%\". The margin of error is affected by several factors, including the level of confidence desired, the sample size, and the variability of the data.\n",
        "\n",
        "As sample size increases, the margin of error decreases. This is because larger sample sizes lead to more precise estimates of the population parameter. In other words, larger samples provide more information about the population, which results in a smaller margin of error. This relationship between sample size and margin of error is important to consider when designing surveys or experiments.\n",
        "\n",
        "Here's an example of a scenario where a larger sample size would result in a smaller margin of error:\n",
        "\n",
        "Suppose we want to estimate the proportion of voters in a particular state who support a certain candidate in an upcoming election. We take a random sample of 500 voters and find that 55% of them support the candidate. We want to construct a 95% confidence interval for the true proportion of voters who support the candidate.\n",
        "\n",
        "Using the formula for the margin of error for a proportion:\n",
        "\n",
        "ME = Z * sqrt(p_hat * (1 - p_hat) / n)\n",
        "\n",
        "Where:\n",
        "ME is the margin of error\n",
        "Z is the critical value of the standard normal distribution for the desired level of confidence (in this case, 1.96 for 95% confidence)\n",
        "p_hat is the sample proportion (0.55 in this case)\n",
        "n is the sample size (500)\n",
        "\n",
        "Substituting the values, we get:\n",
        "\n",
        "ME = 1.96 * sqrt(0.55 * 0.45 / 500)\n",
        "= 0.048\n",
        "\n",
        "So the 95% confidence interval for the true proportion of voters who support the candidate is (0.502, 0.598), with a margin of error of ±4.8%.\n",
        "\n",
        "Now, suppose we increase the sample size to 1000 voters. Using the same formula, we get:\n",
        "\n",
        "ME = 1.96 * sqrt(0.55 * 0.45 / 1000)\n",
        "= 0.034\n",
        "\n",
        "So the 95% confidence interval for the true proportion of voters who support the candidate is (0.516, 0.584), with a margin of error of ±3.4%. As expected, the margin of error has decreased with the larger sample size."
      ],
      "metadata": {
        "id": "rU_nkSRkz05x"
      }
    },
    {
      "cell_type": "markdown",
      "source": [
        "Q9. Calculate the z-score for a data point with a value of 75, a population mean of 70, and a population\n",
        "standard deviation of 5. Interpret the results."
      ],
      "metadata": {
        "id": "Mf6VpExTz3aC"
      }
    },
    {
      "cell_type": "markdown",
      "source": [
        "The z-score formula is:\n",
        "\n",
        "z = (x - μ) / σ\n",
        "\n",
        "where:\n",
        "x = the data point value\n",
        "μ = the population mean\n",
        "σ = the population standard deviation\n",
        "\n",
        "Plugging in the values given in the question, we get:\n",
        "\n",
        "z = (75 - 70) / 5\n",
        "z = 1\n",
        "\n",
        "So the z-score for this data point is 1.\n",
        "\n",
        "Interpreting the results, we can say that the data point is one standard deviation above the population mean. This means that the data point is above average compared to the rest of the population, in terms of the given variable (which is not specified in the question). The z-score also tells us how many standard deviations away from the mean the data point is, so a z-score of 1 means that the data point is 1 standard deviation away from the mean."
      ],
      "metadata": {
        "id": "Nfvi97Rq0fov"
      }
    },
    {
      "cell_type": "markdown",
      "source": [
        "Q10. In a study of the effectiveness of a new weight loss drug, a sample of 50 participants lost an average\n",
        "of 6 pounds with a standard deviation of 2.5 pounds. Conduct a hypothesis test to determine if the drug is\n",
        "significantly effective at a 95% confidence level using a t-test\n",
        "\n"
      ],
      "metadata": {
        "id": "vxwE-v4N0kq8"
      }
    },
    {
      "cell_type": "markdown",
      "source": [
        "To conduct a hypothesis test to determine if the weight loss drug is significantly effective, we can set up the null and alternative hypotheses as follows:\n",
        "\n",
        "Null hypothesis: The true mean weight loss for the population is equal to 0 pounds.\n",
        "Alternative hypothesis: The true mean weight loss for the population is greater than 0 pounds.\n",
        "We will use a one-sample t-test with a significance level of 0.05 and a degree of freedom of 49 (n-1).\n",
        "\n",
        "First, we calculate the t-statistic:\n",
        "\n",
        "t = (sample mean - hypothesized population mean) / (sample standard deviation / sqrt(sample size))\n",
        "t = (6 - 0) / (2.5 / sqrt(50))\n",
        "t = 15.66\n",
        "\n",
        "The critical t-value for a one-tailed test with a degree of freedom of 49 and a significance level of 0.05 is 1.676. Since our calculated t-value (15.66) is greater than the critical t-value (1.676), we can reject the null hypothesis.\n",
        "\n",
        "Therefore, we can conclude that the weight loss drug is significantly effective at a 95% confidence level.\n",
        "\n",
        "\n",
        "\n"
      ],
      "metadata": {
        "id": "x4l52UNd-023"
      }
    },
    {
      "cell_type": "markdown",
      "source": [
        "Q11. In a survey of 500 people, 65% reported being satisfied with their current job. Calculate the 95%\n",
        "confidence interval for the true proportion of people who are satisfied with their job."
      ],
      "metadata": {
        "id": "wDQMN1xc-3bm"
      }
    },
    {
      "cell_type": "markdown",
      "source": [
        "o calculate the confidence interval, we can use the following formula:\n",
        "\n",
        "Confidence interval = sample proportion ± (critical value x standard error)\n",
        "\n",
        "Where the sample proportion is 0.65 (65% as a decimal), the critical value corresponds to the level of confidence, and the standard error is the standard deviation of the sample proportion.\n",
        "\n",
        "Since we want a 95% confidence interval, we can find the critical value from a standard normal distribution table or a calculator. The critical value for a 95% confidence interval is approximately 1.96.\n",
        "\n",
        "To find the standard error, we use the formula:\n",
        "\n",
        "Standard error = sqrt((sample proportion x (1 - sample proportion)) / sample size)\n",
        "\n",
        "Substituting the values we have, we get:\n",
        "\n",
        "Standard error = sqrt((0.65 x 0.35) / 500) = 0.0331\n",
        "\n",
        "Now we can plug in the values to get the confidence interval:\n",
        "\n",
        "Confidence interval = 0.65 ± (1.96 x 0.0331) = (0.5857, 0.7143)\n",
        "\n",
        "Therefore, we can say with 95% confidence that the true proportion of people who are satisfied with their job falls between 0.5857 and 0.7143."
      ],
      "metadata": {
        "id": "ZtfnooqYFvhX"
      }
    },
    {
      "cell_type": "markdown",
      "source": [
        "Q12. A researcher is testing the effectiveness of two different teaching methods on student performance.\n",
        "Sample A has a mean score of 85 with a standard deviation of 6, while sample B has a mean score of 82\n",
        "with a standard deviation of 5. Conduct a hypothesis test to determine if the two teaching methods have a\n",
        "significant difference in student performance using a t-test with a significance level of 0.01."
      ],
      "metadata": {
        "id": "g27ebEvkzA2l"
      }
    },
    {
      "cell_type": "markdown",
      "source": [
        "To conduct a hypothesis test to determine if the two teaching methods have a significant difference in student performance, we can use a two-sample t-test. The null hypothesis is that there is no significant difference between the two teaching methods, while the alternative hypothesis is that there is a significant difference between the two teaching methods.\n",
        "\n",
        "The test statistic for the two-sample t-test is:\n",
        "\n",
        "t = (x̄A - x̄B) / sqrt(s^2pooled * (1/nA + 1/nB))\n",
        "\n",
        "where x̄A and x̄B are the sample means, s^2pooled is the pooled variance, nA and nB are the sample sizes.\n",
        "\n",
        "The pooled variance is calculated as:\n",
        "\n",
        "s^2pooled = ((nA - 1) * s^2A + (nB - 1) * s^2B) / (nA + nB - 2)\n",
        "\n",
        "where s^2A and s^2B are the sample variances.\n",
        "\n",
        "The degrees of freedom for the t-distribution is (nA + nB - 2).\n",
        "\n",
        "Using the given data, we have:\n",
        "\n",
        "Sample A: nA = ? (not given), x̄A = 85, sA = 6\n",
        "Sample B: nB = ? (not given), x̄B = 82, sB = 5\n",
        "Significance level: α = 0.01\n",
        "\n",
        "We are missing the sample sizes for both groups, so we cannot calculate the t statistic. Without the sample sizes, we cannot calculate the pooled variance, which is necessary for the t-test. Therefore, we cannot conduct the hypothesis test with the given information.\n",
        "\n",
        "Assuming that the sample sizes are given, we would proceed as follows:\n",
        "\n",
        "State the null and alternative hypotheses:\n",
        "H0: μA = μB (there is no significant difference between the two teaching methods)\n",
        "Ha: μA ≠ μB (there is a significant difference between the two teaching methods)\n",
        "\n",
        "Calculate the t statistic:\n",
        "t = (85 - 82) / sqrt(((nA-1)(6^2)+(nB-1)(5^2)) / (nA + nB - 2) * (1/nA + 1/nB))\n",
        "\n",
        "Determine the critical t-value using the t-distribution table with (nA + nB - 2) degrees of freedom and a significance level of 0.01. For a two-tailed test, the critical t-value is ±2.576.\n",
        "\n",
        "Compare the calculated t statistic with the critical t-value. If the calculated t statistic falls outside the range of the critical t-values, then we reject the null hypothesis. Otherwise, we fail to reject the null hypothesis.\n",
        "\n",
        "Interpret the results. If we reject the null hypothesis, we conclude that there is a significant difference between the two teaching methods. If we fail to reject the null hypothesis, we conclude that there is not enough evidence to suggest a significant difference between the two teaching methods.\n",
        "\n",
        "Note: Without knowing the sample sizes, we cannot proceed with the hypothesis test."
      ],
      "metadata": {
        "id": "_flBjH061Xk9"
      }
    },
    {
      "cell_type": "markdown",
      "source": [
        "Q13. A population has a mean of 60 and a standard deviation of 8. A sample of 50 observations has a mean\n",
        "of 65. Calculate the 90% confidence interval for the true population mean."
      ],
      "metadata": {
        "id": "3z_lPrGF1ZRk"
      }
    },
    {
      "cell_type": "markdown",
      "source": [
        "To calculate the 90% confidence interval for the true population mean, we can use the formula:\n",
        "\n",
        "CI = x̄ ± z*(σ/√n)\n",
        "\n",
        "where CI is the confidence interval, x̄ is the sample mean, σ is the population standard deviation, n is the sample size, and z is the critical value from the standard normal distribution corresponding to the desired level of confidence.\n",
        "\n",
        "Given:\n",
        "\n",
        "Population mean (μ) = 60\n",
        "Population standard deviation (σ) = 8\n",
        "Sample mean (x̄) = 65\n",
        "Sample size (n) = 50\n",
        "Confidence level = 90%\n",
        "\n",
        "To find the critical value (z) for a 90% confidence level, we can use the standard normal distribution table or calculator. The critical value corresponding to a 90% confidence level is 1.645 (z-score).\n",
        "\n",
        "Plugging the given values into the formula, we get:\n",
        "\n",
        "CI = 65 ± 1.645*(8/√50)\n",
        "\n",
        "Simplifying this equation, we get:\n",
        "\n",
        "CI = 65 ± 2.343\n",
        "\n",
        "Therefore, the 90% confidence interval for the true population mean is (62.657, 67.343). We are 90% confident that the true population mean falls within this interval."
      ],
      "metadata": {
        "id": "F3NO3eCE4qSY"
      }
    },
    {
      "cell_type": "markdown",
      "source": [
        "Q14. In a study of the effects of caffeine on reaction time, a sample of 30 participants had an average\n",
        "reaction time of 0.25 seconds with a standard deviation of 0.05 seconds. Conduct a hypothesis test to\n",
        "determine if the caffeine has a significant effect on reaction time at a 90% confidence level using a t-test."
      ],
      "metadata": {
        "id": "D0NkAZBi4rWi"
      }
    },
    {
      "cell_type": "markdown",
      "source": [
        "To conduct a hypothesis test to determine if caffeine has a significant effect on reaction time at a 90% confidence level using a t-test, we can follow the steps below:\n",
        "\n",
        "Step 1: State the null and alternative hypotheses\n",
        "\n",
        "The null hypothesis (H0) is that there is no significant effect of caffeine on reaction time. The alternative hypothesis (Ha) is that there is a significant effect of caffeine on reaction time.\n",
        "\n",
        "H0: μ = 0.25 (mean reaction time is equal to 0.25 seconds)\n",
        "Ha: μ ≠ 0.25 (mean reaction time is not equal to 0.25 seconds)\n",
        "\n",
        "Step 2: Determine the level of significance (α)\n",
        "\n",
        "The level of significance (α) is the probability of rejecting the null hypothesis when it is actually true. Since we want to conduct the test at a 90% confidence level, the significance level will be 1 - 0.90 = 0.10.\n",
        "\n",
        "α = 0.10\n",
        "\n",
        "Step 3: Determine the test statistic\n",
        "\n",
        "Since the sample size is small (n = 30) and the population standard deviation is unknown, we will use a t-test. The formula for the t-test statistic is:\n",
        "\n",
        "t = (x̄ - μ) / (s / √n)\n",
        "\n",
        "where x̄ is the sample mean, μ is the hypothesized population mean, s is the sample standard deviation, and n is the sample size.\n",
        "\n",
        "Using the values given in the question, we can calculate the test statistic as follows:\n",
        "\n",
        "t = (0.25 - 0.25) / (0.05 / √30) = 0 / 0.009146 = 0\n",
        "\n",
        "Step 4: Determine the critical value\n",
        "\n",
        "To determine the critical value, we need to use a t-distribution table with degrees of freedom (df) equal to n - 1 = 29 and a significance level of 0.10. Looking up the table, we find that the critical values are ±1.699.\n",
        "\n",
        "Step 5: Make a decision and interpret the results\n",
        "\n",
        "The test statistic (t = 0) falls within the acceptance region (-1.699 to 1.699), so we fail to reject the null hypothesis. This means that we do not have sufficient evidence to conclude that caffeine has a significant effect on reaction time at a 90% confidence level.\n",
        "\n",
        "In conclusion, based on the given data, we cannot reject the null hypothesis that there is no significant effect of caffeine on reaction time at a 90% confidence level."
      ],
      "metadata": {
        "id": "Bm7JGD898afv"
      }
    },
    {
      "cell_type": "markdown",
      "source": [],
      "metadata": {
        "id": "hGU_Z64c9kA1"
      }
    }
  ]
}