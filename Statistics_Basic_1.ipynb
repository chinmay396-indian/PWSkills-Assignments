{
  "nbformat": 4,
  "nbformat_minor": 0,
  "metadata": {
    "colab": {
      "provenance": [],
      "authorship_tag": "ABX9TyOymfGiC4SBMAIceQutf03/",
      "include_colab_link": true
    },
    "kernelspec": {
      "name": "python3",
      "display_name": "Python 3"
    },
    "language_info": {
      "name": "python"
    }
  },
  "cells": [
    {
      "cell_type": "markdown",
      "metadata": {
        "id": "view-in-github",
        "colab_type": "text"
      },
      "source": [
        "<a href=\"https://colab.research.google.com/github/chinmay396-indian/PWSkills-Assignments/blob/main/Statistics_Basic_1.ipynb\" target=\"_parent\"><img src=\"https://colab.research.google.com/assets/colab-badge.svg\" alt=\"Open In Colab\"/></a>"
      ]
    },
    {
      "cell_type": "markdown",
      "source": [
        "Q1. What is Statistics?"
      ],
      "metadata": {
        "id": "ItKJNQiFXRLi"
      }
    },
    {
      "cell_type": "markdown",
      "source": [
        "Statistics is a branch of mathematics that deals with the collection, analysis, interpretation, presentation, and organization of numerical data. It involves using mathematical methods to make inferences and draw conclusions about a population based on a sample of data."
      ],
      "metadata": {
        "id": "GwU1CwuvXR0y"
      }
    },
    {
      "cell_type": "markdown",
      "source": [
        "Q2. Define the different types of statistics and give an example of when each type might be used."
      ],
      "metadata": {
        "id": "gHIo1tcNYHD2"
      }
    },
    {
      "cell_type": "markdown",
      "source": [
        "There are two main types of statistics: descriptive statistics and inferential statistics.\n",
        "\n",
        "Descriptive Statistics: Descriptive statistics involves describing and summarizing the characteristics of a data set using numerical measures, such as measures of central tendency (mean, median, mode) and measures of variability (standard deviation, range). This type of statistics is used to understand and analyze data within a sample, without making any inferences about the population. Some examples of when descriptive statistics might be used include:\n",
        "A company wants to understand the average age of its customers, so it collects data on the ages of a sample of customers and calculates the mean age.\n",
        "A researcher wants to describe the distribution of scores on a test, so they calculate the median score and the range of scores.\n",
        "Inferential Statistics: Inferential statistics involves using sample data to make inferences about a population. This type of statistics is used to generalize findings from a sample to the larger population. Examples of when inferential statistics might be used include:\n",
        "A political pollster wants to estimate the percentage of voters who support a particular candidate in a city, so they survey a sample of voters and use inferential statistics to estimate the percentage of all voters in the city who support that candidate.\n",
        "A medical researcher wants to test whether a new drug is effective in reducing symptoms of a particular disease, so they randomly assign patients to receive either the new drug or a placebo, and use inferential statistics to determine whether the drug is more effective than the placebo."
      ],
      "metadata": {
        "id": "FVRfwNyqYft3"
      }
    },
    {
      "cell_type": "markdown",
      "source": [
        "Q3. What are the different types of data and how do they differ from each other? Provide an example of\n",
        "each type of data."
      ],
      "metadata": {
        "id": "gfqGXwhUYp5j"
      }
    },
    {
      "cell_type": "markdown",
      "source": [
        "There are four main types of data: nominal, ordinal, interval, and ratio. The differences between these types of data relate to the level of measurement and the type of values that can be assigned to them.\n",
        "\n",
        "Nominal Data: Nominal data is categorical data that is assigned to groups based on a characteristic or quality, but there is no inherent order or ranking to the categories. Examples of nominal data include gender (male, female), eye color (brown, blue, green), and marital status (married, single, divorced).\n",
        "\n",
        "Ordinal Data: Ordinal data is categorical data that has an inherent order or ranking to the categories, but the differences between the categories are not necessarily equal. Examples of ordinal data include education level (high school diploma, bachelor's degree, master's degree), income level (low, middle, high), and ratings of satisfaction (very satisfied, somewhat satisfied, not satisfied).\n",
        "\n",
        "Interval Data: Interval data is numerical data that has equal intervals between values, but there is no true zero point. This means that the value of zero does not represent the absence of the thing being measured, but rather a reference point. Examples of interval data include temperature in Celsius or Fahrenheit, years (such as 2021), and IQ scores.\n",
        "\n",
        "Ratio Data: Ratio data is numerical data that has equal intervals between values and a true zero point, which represents the absence of the thing being measured. Examples of ratio data include height, weight, age, and income."
      ],
      "metadata": {
        "id": "aFzwkPsiY3Xn"
      }
    },
    {
      "cell_type": "markdown",
      "source": [
        "Q4. Categorise the following datasets with respect to quantitative and qualitative data types:\n",
        "(i) Grading in exam: A+, A, B+, B, C+, C, D, E\n",
        "(ii) Colour of mangoes: yellow, green, orange, red\n",
        "(iii) Height data of a class: [178.9, 179, 179.5, 176, 177.2, 178.3, 175.8,...]\n",
        "(iv) Number of mangoes exported by a farm: [500, 600, 478, 672, ...]"
      ],
      "metadata": {
        "id": "YZmBPJDkcIkH"
      }
    },
    {
      "cell_type": "markdown",
      "source": [
        "(i) Grading in exam: A+, A, B+, B, C+, C, D, E - This is a categorical data set and falls under the qualitative data type.\n",
        "\n",
        "(ii) Colour of mangoes: yellow, green, orange, red - This is also a categorical data set and falls under the qualitative data type.\n",
        "\n",
        "(iii) Height data of a class: [178.9, 179, 179.5, 176, 177.2, 178.3, 175.8,...] - This is a numerical data set and falls under the quantitative data type.\n",
        "\n",
        "(iv) Number of mangoes exported by a farm: [500, 600, 478, 672, ...] - This is also a numerical data set and falls under the quantitative data type."
      ],
      "metadata": {
        "id": "F8q_BFOslpA5"
      }
    },
    {
      "cell_type": "markdown",
      "source": [
        "Q5. Explain the concept of levels of measurement and give an example of a variable for each level."
      ],
      "metadata": {
        "id": "MMMZl_ujnOIU"
      }
    },
    {
      "cell_type": "markdown",
      "source": [
        "Nominal Level of Measurement: At the nominal level of measurement, variables are categorized based on the presence or absence of a characteristic or quality. Examples of variables measured at the nominal level include gender (male or female), eye color (brown, blue, green), and blood type (A, B, AB, or O).\n",
        "\n",
        "Ordinal Level of Measurement: At the ordinal level of measurement, variables are categorized based on an inherent order or ranking, but the differences between categories are not necessarily equal. Examples of variables measured at the ordinal level include letter grades (A, B, C, D, or F), socioeconomic status (low, middle, or high), and levels of satisfaction (very satisfied, somewhat satisfied, or not satisfied).\n",
        "\n",
        "Interval Level of Measurement: At the interval level of measurement, variables are measured on a scale with equal intervals between values, but there is no true zero point. Examples of variables measured at the interval level include temperature measured in Celsius or Fahrenheit, and years (such as 2021).\n",
        "\n",
        "Ratio Level of Measurement: At the ratio level of measurement, variables are measured on a scale with equal intervals between values and a true zero point, which represents the absence of the thing being measured. Examples of variables measured at the ratio level include height, weight, age, and income."
      ],
      "metadata": {
        "id": "x22dl2jDoj3Y"
      }
    },
    {
      "cell_type": "markdown",
      "source": [
        "It is important to understand the level of measurement when analyzing data because different levels of measurement allow for different types of statistical analysis and interpretation. Misinterpreting the level of measurement of a variable can lead to incorrect conclusions and flawed analyses.\n",
        "\n",
        "For example, consider a dataset that measures the education level of individuals as \"high school diploma,\" \"bachelor's degree,\" \"master's degree,\" and \"PhD.\" If someone were to treat this variable as interval-level data, they might calculate the mean education level or try to measure the difference in education level between individuals. However, education level is actually an ordinal-level variable because the categories have an inherent order, but the differences between categories are not necessarily equal. Treating this variable as interval-level data would result in invalid statistical conclusions.\n",
        "\n",
        "Another example is a dataset that measures the temperature in Celsius or Fahrenheit. Temperature is an interval-level variable because there is no true zero point, so one cannot say that 30 degrees is \"twice as hot\" as 15 degrees. However, if someone were to measure temperature using a ratio scale, they might assume that a temperature of 0 degrees Celsius represents an absence of temperature. This would lead to incorrect conclusions because 0 degrees Celsius does not represent an absence of temperature, but rather a reference point.\n",
        "\n",
        "In both of these examples, misunderstanding the level of measurement of a variable can lead to incorrect conclusions and flawed statistical analyses. It is therefore crucial to understand the level of measurement when analyzing data."
      ],
      "metadata": {
        "id": "-zMXZyucolu0"
      }
    },
    {
      "cell_type": "markdown",
      "source": [
        "Q7. How nominal data type is different from ordinal data type."
      ],
      "metadata": {
        "id": "NKEBHFSDpz7n"
      }
    },
    {
      "cell_type": "markdown",
      "source": [
        "Nominal data and ordinal data are both types of categorical data, but they differ in how the categories are ordered.\n",
        "\n",
        "Nominal data is a categorical data type where variables are classified into non-ordered categories. The categories do not have any inherent order or ranking, and they are simply labeled or named. Examples of nominal variables include gender, race, and religion. In nominal data, categories are distinguished by name or a label, and it is not meaningful to assign any numerical or quantitative value to the categories.\n",
        "\n",
        "Ordinal data, on the other hand, is a categorical data type where variables are classified into ordered categories. The categories have an inherent order or ranking, but the differences between categories are not necessarily equal. Examples of ordinal variables include letter grades (A, B, C, D, F), education level (elementary school, middle school, high school, college), and socioeconomic status (low, middle, high). In ordinal data, categories are distinguished by rank or order, but it is not meaningful to assign any numerical or quantitative value to the categories.\n",
        "\n",
        "In summary, nominal data refers to data with non-ordered categories, while ordinal data refers to data with ordered categories. Nominal data is used to describe qualitative differences, while ordinal data is used to describe qualitative differences as well as the order or ranking of categories."
      ],
      "metadata": {
        "id": "9HbEF7BUrjnK"
      }
    },
    {
      "cell_type": "markdown",
      "source": [
        "Q8. Which type of plot can be used to display data in terms of range?"
      ],
      "metadata": {
        "id": "QRpv20Xosk1z"
      }
    },
    {
      "cell_type": "markdown",
      "source": [
        "A box plot or box and whisker plot can be used to display data in terms of range. A box plot provides a visual summary of the distribution of a dataset, showing the median, quartiles, and extreme values or outliers. The \"box\" in the plot represents the middle 50% of the data, with the median represented by a line in the box. The \"whiskers\" represent the range of the data, with the upper and lower whiskers extending to the highest and lowest data points within a certain range.\n",
        "\n",
        "The range can be calculated as the difference between the maximum and minimum values in the dataset. The box plot provides a visual representation of the range, as well as the distribution of the data within the range. It is particularly useful for identifying outliers, which are data points that are significantly different from the rest of the data.\n",
        "\n",
        "Overall, a box plot is a useful tool for displaying data in terms of range and can be used to summarize the spread of the data, identify outliers, and compare the distributions of different datasets."
      ],
      "metadata": {
        "id": "jZMRyzPpsmZU"
      }
    },
    {
      "cell_type": "markdown",
      "source": [
        "Q9. Describe the difference between descriptive and inferential statistics. Give an example of each\n",
        "type of statistics and explain how they are used."
      ],
      "metadata": {
        "id": "3Wfu-JQetOPz"
      }
    },
    {
      "cell_type": "markdown",
      "source": [
        "Descriptive statistics and inferential statistics are two branches of statistics that are used to analyze data in different ways.\n",
        "\n",
        "Descriptive statistics refers to methods of summarizing and describing data in a meaningful way. It involves collecting, organizing, analyzing, and presenting data in order to describe and summarize the characteristics of a dataset. Descriptive statistics can be used to compute measures of central tendency, such as the mean, median, and mode, as well as measures of variability, such as the range, variance, and standard deviation. Descriptive statistics can also be used to create visual representations of data, such as histograms, box plots, and scatter plots.\n",
        "\n",
        "Example of descriptive statistics: Suppose a researcher wants to describe the average age of students in a class. They can use descriptive statistics to calculate the mean age, the range of ages, and the distribution of ages using a histogram. This information can help the researcher understand the characteristics of the dataset and communicate these findings to others.\n",
        "\n",
        "Inferential statistics, on the other hand, refers to methods of using a sample of data to make inferences about a larger population. It involves making generalizations about a population based on a sample of data. Inferential statistics involves hypothesis testing, where the researcher formulates a hypothesis about the population and then tests it using data from a sample.\n",
        "\n",
        "Example of inferential statistics: Suppose a researcher wants to test whether a new drug is effective in treating a particular condition. They might conduct a randomized controlled trial where they give the drug to one group of patients and a placebo to another group of patients. They can use inferential statistics to test whether there is a statistically significant difference between the two groups, and to make inferences about whether the drug is effective in the larger population.\n",
        "\n",
        "In summary, descriptive statistics are used to summarize and describe data, while inferential statistics are used to make inferences about a larger population based on a sample of data."
      ],
      "metadata": {
        "id": "OZJu-WQptQQV"
      }
    },
    {
      "cell_type": "markdown",
      "source": [
        "Q10. What are some common measures of central tendency and variability used in statistics? Explain\n",
        "how each measure can be used to describe a dataset."
      ],
      "metadata": {
        "id": "NSMcnwlLuyKW"
      }
    },
    {
      "cell_type": "markdown",
      "source": [
        "Mean: The mean is the average value of a dataset, calculated by adding up all the values and dividing by the total number of values. The mean is useful for describing a dataset with a symmetrical distribution, where the data values are evenly spread out on both sides of the mean. However, the mean can be sensitive to outliers and extreme values that may skew the distribution.\n",
        "\n",
        "Median: The median is the middle value in a dataset, where half of the values are above and half are below. The median is useful for describing a dataset with an asymmetrical distribution, where the data values are not evenly spread out on both sides of the middle value. The median is less sensitive to outliers and extreme values than the mean.\n",
        "\n",
        "Mode: The mode is the most frequently occurring value in a dataset. The mode is useful for describing a dataset with a categorical or discrete variable, where the data values can be counted and compared. The mode can also be used to describe a dataset with a continuous variable, where the values are grouped into intervals or bins.\n",
        "\n",
        "Range: The range is the difference between the maximum and minimum values in a dataset. The range provides a measure of the spread or variability of the data, but it is sensitive to outliers and extreme values.\n",
        "\n",
        "Standard Deviation: The standard deviation is a measure of the amount of variability or dispersion of a dataset, calculated as the square root of the variance. The standard deviation provides a measure of how tightly clustered the data values are around the mean, with a smaller standard deviation indicating a more tightly clustered dataset.\n",
        "\n",
        "Variance: The variance is a measure of the spread or variability of a dataset, calculated as the average of the squared differences between each data value and the mean. The variance provides a measure of how much the data values deviate from the mean, with a larger variance indicating a more spread out dataset."
      ],
      "metadata": {
        "id": "wd4v_f9WvEt0"
      }
    }
  ]
}