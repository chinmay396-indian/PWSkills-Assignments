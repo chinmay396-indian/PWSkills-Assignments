{
  "nbformat": 4,
  "nbformat_minor": 0,
  "metadata": {
    "colab": {
      "provenance": [],
      "authorship_tag": "ABX9TyOVU2Zlp5EOvoaWCHq2tDsc",
      "include_colab_link": true
    },
    "kernelspec": {
      "name": "python3",
      "display_name": "Python 3"
    },
    "language_info": {
      "name": "python"
    }
  },
  "cells": [
    {
      "cell_type": "markdown",
      "metadata": {
        "id": "view-in-github",
        "colab_type": "text"
      },
      "source": [
        "<a href=\"https://colab.research.google.com/github/chinmay396-indian/PWSkills-Assignments/blob/main/Statistics_Advance_3.ipynb\" target=\"_parent\"><img src=\"https://colab.research.google.com/assets/colab-badge.svg\" alt=\"Open In Colab\"/></a>"
      ]
    },
    {
      "cell_type": "markdown",
      "source": [
        "Q1: What is Estimation Statistics? Explain point estimate and interval estimate."
      ],
      "metadata": {
        "id": "Qpdak-yo2swN"
      }
    },
    {
      "cell_type": "markdown",
      "source": [
        "Estimation statistics is a branch of statistics that deals with estimating population parameters based on sample data. In many cases, it is impossible to collect data from an entire population, so instead, we collect data from a sample of that population and use it to make inferences about the population as a whole.\n",
        "\n",
        "There are two types of estimation: point estimation and interval estimation.\n",
        "\n",
        "Point estimation involves using sample data to estimate a single value for a population parameter. This single value is called the point estimate. For example, if we want to estimate the population mean based on a sample of data, we can calculate the sample mean and use it as the point estimate for the population mean.\n",
        "\n",
        "Interval estimation involves using sample data to estimate a range of values for a population parameter. This range is called the confidence interval or interval estimate. The confidence interval is constructed in such a way that it contains the true population parameter with a certain level of confidence. For example, if we want to estimate the population mean with 95% confidence, we can calculate a confidence interval that includes the sample mean, along with a margin of error based on the sample size and standard deviation.\n",
        "\n",
        "Both point estimation and interval estimation are important tools in statistics because they allow us to make educated guesses about population parameters based on sample data. However, interval estimation provides more information than point estimation because it includes a range of plausible values for the population parameter, rather than just a single estimate."
      ],
      "metadata": {
        "id": "gJdf-R2U4JoI"
      }
    },
    {
      "cell_type": "markdown",
      "source": [
        "Q2. Write a Python function to estimate the population mean using a sample mean and standard\n",
        "deviation."
      ],
      "metadata": {
        "id": "GoqEpY1i4LKw"
      }
    },
    {
      "cell_type": "code",
      "source": [
        "import math\n",
        "from scipy.stats import t\n",
        "\n",
        "def estimate_population_mean(sample_mean, sample_std_dev, sample_size, confidence_level):\n",
        "    # Calculate the t-score for the given confidence level and degrees of freedom\n",
        "    degrees_of_freedom = sample_size - 1\n",
        "    t_score = t.ppf((1 + confidence_level) / 2, degrees_of_freedom)\n",
        "\n",
        "    # Calculate the margin of error\n",
        "    margin_of_error = t_score * sample_std_dev / math.sqrt(sample_size)\n",
        "\n",
        "    # Calculate the lower and upper bounds of the confidence interval\n",
        "    lower_bound = sample_mean - margin_of_error\n",
        "    upper_bound = sample_mean + margin_of_error\n",
        "\n",
        "    # Return the point estimate and confidence interval\n",
        "    return (sample_mean, lower_bound, upper_bound)\n"
      ],
      "metadata": {
        "id": "R_XxT9sPD8WR"
      },
      "execution_count": null,
      "outputs": []
    },
    {
      "cell_type": "markdown",
      "source": [
        "Q3: What is Hypothesis testing? Why is it used? State the importance of Hypothesis testing."
      ],
      "metadata": {
        "id": "DZT6OgdwEhcT"
      }
    },
    {
      "cell_type": "markdown",
      "source": [
        "Hypothesis testing is a statistical method that is used to determine whether a hypothesis about a population parameter is supported by the evidence provided by a sample of data. In hypothesis testing, we start with a null hypothesis that represents the status quo or the default assumption. We then collect data and calculate a test statistic based on the sample. We compare the test statistic to a critical value or p-value, and if the test statistic is significantly different from the critical value or p-value, we reject the null hypothesis in favor of an alternative hypothesis.\n",
        "\n",
        "Hypothesis testing is used to make decisions based on sample data when we cannot or do not want to collect data from an entire population. It is a way to determine the statistical significance of a result and make conclusions based on probability rather than intuition or guesswork.\n",
        "\n",
        "The importance of hypothesis testing lies in its ability to provide a systematic and objective way to make decisions based on data. It allows researchers and analysts to evaluate the validity of their hypotheses and draw conclusions based on empirical evidence. Without hypothesis testing, decisions would be based on intuition or assumptions, which could be incorrect and lead to incorrect conclusions. Hypothesis testing also helps to control the risk of making a Type I error (rejecting a true null hypothesis) or a Type II error (failing to reject a false null hypothesis). By setting a significance level and calculating a p-value, we can determine the likelihood of making each type of error and make informed decisions about the results."
      ],
      "metadata": {
        "id": "LG7n1B_HEi0o"
      }
    },
    {
      "cell_type": "markdown",
      "source": [
        "Q4. Create a hypothesis that states whether the average weight of male college students is greater than\n",
        "the average weight of female college students."
      ],
      "metadata": {
        "id": "6sbiaQkPEkG9"
      }
    },
    {
      "cell_type": "markdown",
      "source": [
        "The null hypothesis for this scenario would be:\n",
        "\n",
        "H0: The average weight of male college students is equal to or less than the average weight of female college students.\n",
        "\n",
        "And the alternative hypothesis would be:\n",
        "\n",
        "Ha: The average weight of male college students is greater than the average weight of female college students.\n",
        "\n",
        "We would then collect data on the weights of a sample of male and female college students, calculate the sample means and standard deviations, and perform a hypothesis test to determine whether there is enough evidence to reject the null hypothesis in favor of the alternative hypothesis. The significance level and type of test (one-tailed or two-tailed) would depend on the specific research question and context."
      ],
      "metadata": {
        "id": "ADFX-ZttE45P"
      }
    },
    {
      "cell_type": "markdown",
      "source": [
        "Q5. Write a Python script to conduct a hypothesis test on the difference between two population means,\n",
        "given a sample from each population."
      ],
      "metadata": {
        "id": "uCbLOXh1E8VZ"
      }
    },
    {
      "cell_type": "markdown",
      "source": [
        "import numpy as np\n",
        "from scipy.stats import ttest_ind\n",
        "\n",
        "# Generate two random samples of data\n",
        "sample1 = np.random.normal(10, 2, size=50)\n",
        "sample2 = np.random.normal(12, 2, size=50)\n",
        "\n",
        "# Conduct a two-sample t-test assuming equal variances\n",
        "t_statistic, p_value = ttest_ind(sample1, sample2, equal_var=True)\n",
        "\n",
        "# Print the results\n",
        "print(\"Sample 1 Mean:\", np.mean(sample1))\n",
        "print(\"Sample 2 Mean:\", np.mean(sample2))\n",
        "print(\"t-statistic:\", t_statistic)\n",
        "print(\"p-value:\", p_value)\n"
      ],
      "metadata": {
        "id": "qtatlCnLHnAA"
      }
    },
    {
      "cell_type": "markdown",
      "source": [
        "Q6: What is a null and alternative hypothesis? Give some examples."
      ],
      "metadata": {
        "id": "yvKxhQ3vKETN"
      }
    },
    {
      "cell_type": "markdown",
      "source": [
        "In statistical hypothesis testing, the null hypothesis is a statement that there is no significant difference between two populations or that any observed difference is due to chance. The alternative hypothesis, on the other hand, is a statement that there is a significant difference between two populations or that any observed difference is not due to chance. The null and alternative hypotheses are usually denoted as H0 and Ha, respectively.\n",
        "\n",
        "Here are some examples of null and alternative hypotheses:\n",
        "\n",
        "A company claims that their new product increases sales. The null hypothesis would be that the new product has no effect on sales (H0: the mean sales before and after the product launch are the same), while the alternative hypothesis would be that the new product does increase sales (Ha: the mean sales after the product launch are greater than the mean sales before the product launch).\n",
        "\n",
        "A researcher wants to test whether there is a significant difference in height between men and women. The null hypothesis would be that there is no significant difference in height between men and women (H0: the mean height of men and women is equal), while the alternative hypothesis would be that there is a significant difference in height between men and women (Ha: the mean height of men and women is not equal).\n",
        "\n",
        "An online retailer wants to test whether a discount code increases the average order value. The null hypothesis would be that the discount code has no effect on the average order value (H0: the mean order value before and after the discount code is the same), while the alternative hypothesis would be that the discount code does increase the average order value (Ha: the mean order value after the discount code is greater than the mean order value before the discount code).\n",
        "\n",
        "It is important to carefully define the null and alternative hypotheses before conducting a statistical hypothesis test, as they determine the direction and interpretation of the test."
      ],
      "metadata": {
        "id": "_vs9Nw9FKFps"
      }
    },
    {
      "cell_type": "markdown",
      "source": [
        "Q7: Write down the steps involved in hypothesis testing."
      ],
      "metadata": {
        "id": "To84AZ1NKG_7"
      }
    },
    {
      "cell_type": "markdown",
      "source": [
        "Here are the general steps involved in hypothesis testing:\n",
        "\n",
        "Formulate the null and alternative hypotheses: Define the null hypothesis (H0), which represents the status quo or a claim that there is no significant difference between two populations. Define the alternative hypothesis (Ha), which represents the alternative claim that there is a significant difference between the two populations.\n",
        "\n",
        "Set the significance level: Determine the level of significance (alpha) at which you will reject the null hypothesis if the evidence against it is strong enough. The common significance level is 0.05.\n",
        "\n",
        "Determine the appropriate test statistic: Choose the appropriate test statistic based on the nature of the data and the research question. The choice of test statistic depends on factors such as the type of data, the sample size, and whether the variances of the populations are assumed to be equal.\n",
        "\n",
        "Calculate the test statistic: Calculate the test statistic using the sample data and the chosen test statistic formula.\n",
        "\n",
        "Determine the p-value: Determine the p-value, which is the probability of observing a test statistic at least as extreme as the one calculated if the null hypothesis were true.\n",
        "\n",
        "Make a decision: Compare the p-value with the significance level. If the p-value is less than or equal to the significance level, reject the null hypothesis and accept the alternative hypothesis. Otherwise, fail to reject the null hypothesis.\n",
        "\n",
        "Interpret the results: Interpret the results of the hypothesis test in the context of the research question and the null and alternative hypotheses. Draw conclusions based on the results and make recommendations or decisions accordingly.\n",
        "\n",
        "It is important to note that these steps are general guidelines and the specific procedures and calculations may vary depending on the type of hypothesis test being conducted and the nature of the data."
      ],
      "metadata": {
        "id": "Ge7nS8Q2MH9P"
      }
    },
    {
      "cell_type": "markdown",
      "source": [
        "Q8. Define p-value and explain its significance in hypothesis testing."
      ],
      "metadata": {
        "id": "FQFt45jDMvp_"
      }
    },
    {
      "cell_type": "markdown",
      "source": [
        "In statistical hypothesis testing, the p-value is the probability of obtaining a test statistic as extreme or more extreme than the observed value, assuming the null hypothesis is true. The p-value represents the evidence against the null hypothesis and helps determine whether the null hypothesis should be rejected or not.\n",
        "\n",
        "If the p-value is less than or equal to the significance level (usually 0.05), then there is sufficient evidence to reject the null hypothesis and accept the alternative hypothesis. This means that the observed data is unlikely to have occurred by chance alone and there is a significant difference between the populations being compared.\n",
        "\n",
        "On the other hand, if the p-value is greater than the significance level, then there is not enough evidence to reject the null hypothesis. This means that the observed data is likely to have occurred by chance alone and there is no significant difference between the populations being compared.\n",
        "\n",
        "The significance of the p-value in hypothesis testing is that it provides a quantitative measure of the strength of the evidence against the null hypothesis. A smaller p-value indicates stronger evidence against the null hypothesis, while a larger p-value indicates weaker evidence. Therefore, the p-value helps researchers make informed decisions about whether to reject or fail to reject the null hypothesis, based on the level of significance and the strength of the evidence against it."
      ],
      "metadata": {
        "id": "epd1uIHZMww5"
      }
    },
    {
      "cell_type": "code",
      "source": [
        "import numpy as np\n",
        "import matplotlib.pyplot as plt\n",
        "from scipy.stats import t\n",
        "\n",
        "# Generate data points\n",
        "df = 10\n",
        "x = np.linspace(-4, 4, 1000)\n",
        "y = t.pdf(x, df)\n",
        "\n",
        "# Plot the distribution\n",
        "fig, ax = plt.subplots(figsize=(8, 4))\n",
        "ax.plot(x, y, label='T-Distribution (df=10)')\n",
        "ax.legend(loc='best')\n",
        "ax.set_title('Student\\'s t-Distribution')\n",
        "ax.set_xlabel('X')\n",
        "ax.set_ylabel('PDF')\n",
        "plt.show()\n"
      ],
      "metadata": {
        "colab": {
          "base_uri": "https://localhost:8080/",
          "height": 410
        },
        "id": "oQdxdTG4UuLx",
        "outputId": "52b7be49-06b0-4f61-da2d-22299499ab46"
      },
      "execution_count": 4,
      "outputs": [
        {
          "output_type": "display_data",
          "data": {
            "text/plain": [
              "<Figure size 800x400 with 1 Axes>"
            ],
            "image/png": "[encoded data removed]"
          },
          "metadata": {}
        }
      ]
    },
    {
      "cell_type": "markdown",
      "source": [
        "Q11: What is Student’s t distribution? When to use the t-Distribution."
      ],
      "metadata": {
        "id": "jzIabVfLVpnc"
      }
    },
    {
      "cell_type": "markdown",
      "source": [
        "Student’s t-distribution is a probability distribution used to estimate the mean of a normally distributed population in situations where the sample size is small or the population standard deviation is unknown. It was introduced by William Gosset, who wrote under the pseudonym \"Student\" in 1908.\n",
        "\n",
        "The t-distribution is similar to the normal distribution in shape but has heavier tails, which means it assigns more probability to extreme values. The shape of the t-distribution is determined by a parameter called degrees of freedom (df), which represents the number of independent observations in the sample. As the degrees of freedom increase, the t-distribution approaches the normal distribution.\n",
        "\n",
        "The t-distribution is used in hypothesis testing, where we test whether a sample mean is significantly different from a hypothesized population mean. It is also used in constructing confidence intervals for the population mean, where we use the sample mean and the standard error of the mean to estimate the range of likely values for the population mean.\n",
        "\n",
        "In general, the t-distribution is used when we have a small sample size (less than 30) or when the population standard deviation is unknown. If the sample size is large (greater than or equal to 30) and the population standard deviation is known, we can use the normal distribution instead of the t-distribution."
      ],
      "metadata": {
        "id": "KCvSRhA6VqT-"
      }
    },
    {
      "cell_type": "markdown",
      "source": [
        "Q12: What is t-statistic? State the formula for t-statistic."
      ],
      "metadata": {
        "id": "TzY7hRN8WILv"
      }
    },
    {
      "cell_type": "markdown",
      "source": [
        "In statistics, the t-statistic is a measure of how far the sample mean is from the hypothesized population mean in terms of the standard error. It is used to test hypotheses about population means when the population standard deviation is unknown or the sample size is small (less than 30).\n",
        "\n",
        "The formula for calculating the t-statistic is:\n",
        "\n",
        "t = (x̄ - μ) / (s / √n)\n",
        "\n",
        "Where:\n",
        "\n",
        "x̄ is the sample mean\n",
        "μ is the hypothesized population mean\n",
        "s is the sample standard deviation\n",
        "n is the sample size\n",
        "√n is the square root of the sample size\n",
        "The t-statistic measures the difference between the sample mean and the hypothesized population mean in terms of the standard error of the mean. The larger the t-value, the more evidence we have against the null hypothesis (i.e., that there is no difference between the sample mean and the population mean).\n",
        "\n",
        "In hypothesis testing, we compare the calculated t-value to a critical value from the t-distribution with degrees of freedom (df) equal to n-1. If the calculated t-value is greater than the critical value, we reject the null hypothesis and conclude that there is a significant difference between the sample mean and the population mean at a given level of significance."
      ],
      "metadata": {
        "id": "2ZopZIELWMiQ"
      }
    },
    {
      "cell_type": "markdown",
      "source": [
        "Q13. A coffee shop owner wants to estimate the average daily revenue for their shop. They take a random\n",
        "sample of 50 days and find the sample mean revenue to be $500 with a standard deviation of $50.\n",
        "Estimate the population mean revenue with a 95% confidence interval."
      ],
      "metadata": {
        "id": "rf9tvvHuWWd8"
      }
    },
    {
      "cell_type": "markdown",
      "source": [
        "To estimate the population mean revenue with a 95% confidence interval, we can use the t-distribution since the population standard deviation is unknown and the sample size is less than 30.\n",
        "\n",
        "The formula for calculating a confidence interval for the population mean using the t-distribution is:\n",
        "\n",
        "CI = x̄ ± t* (s / √n)\n",
        "\n",
        "Where:\n",
        "\n",
        "x̄ is the sample mean\n",
        "s is the sample standard deviation\n",
        "n is the sample size\n",
        "t* is the critical t-value from the t-distribution with (n-1) degrees of freedom for the desired level of confidence\n",
        "The critical t-value for a 95% confidence interval and 49 degrees of freedom is 2.009.\n",
        "\n",
        "Substituting the values into the formula, we get:\n",
        "\n",
        "CI = 500 ± 2.009 * (50 / √50)\n",
        "CI = 500 ± 14.14\n",
        "\n",
        "Therefore, we can be 95% confident that the true population mean revenue for the coffee shop is between $485.86 ($500 - $14.14) and $514.14 ($500 + $14.14) per day."
      ],
      "metadata": {
        "id": "-oLSMXx-WfXc"
      }
    },
    {
      "cell_type": "markdown",
      "source": [
        "Q14. A researcher hypothesizes that a new drug will decrease blood pressure by 10 mmHg. They conduct a\n",
        "clinical trial with 100 patients and find that the sample mean decrease in blood pressure is 8 mmHg with a\n",
        "standard deviation of 3 mmHg. Test the hypothesis with a significance level of 0.05."
      ],
      "metadata": {
        "id": "IDki_cwkqiYT"
      }
    },
    {
      "cell_type": "markdown",
      "source": [
        "To test the hypothesis with a significance level of 0.05, we can use a one-sample t-test. The null and alternative hypotheses are:\n",
        "\n",
        "Null hypothesis (H0): The population mean decrease in blood pressure is not significantly different from 10 mmHg (μ = 10).\n",
        "Alternative hypothesis (Ha): The population mean decrease in blood pressure is significantly different from 10 mmHg (μ ≠ 10).\n",
        "The test statistic is calculated as:\n",
        "\n",
        "t = (x̄ - μ) / (s / sqrt(n))\n",
        "\n",
        "where x̄ is the sample mean (8 mmHg), μ is the hypothesized population mean (10 mmHg), s is the sample standard deviation (3 mmHg), and n is the sample size (100).\n",
        "\n",
        "Substituting the values:\n",
        "\n",
        "t = (8 - 10) / (3 / sqrt(100))\n",
        "t = -2 / 0.3\n",
        "t = -6.67\n",
        "\n",
        "The degrees of freedom (df) for this test is (n - 1) = 99. Using a t-table, we can find the critical value for a two-tailed test with a significance level of 0.05 and 99 degrees of freedom. The critical value is approximately ±1.984.\n",
        "\n",
        "Since the absolute value of the calculated t-statistic (6.67) is greater than the critical value (1.984), we can reject the null hypothesis and conclude that the population mean decrease in blood pressure is significantly different from 10 mmHg at a significance level of 0.05. In other words, the new drug has a significant effect on blood pressure, but the effect is not as large as hypothesized."
      ],
      "metadata": {
        "id": "Lnihe3rjqyUM"
      }
    },
    {
      "cell_type": "markdown",
      "source": [
        "Q15. An electronics company produces a certain type of product with a mean weight of 5 pounds and a\n",
        "standard deviation of 0.5 pounds. A random sample of 25 products is taken, and the sample mean weight\n",
        "is found to be 4.8 pounds. Test the hypothesis that the true mean weight of the products is less than 5\n",
        "pounds with a significance level of 0.01."
      ],
      "metadata": {
        "id": "glXXdMGtHryX"
      }
    },
    {
      "cell_type": "markdown",
      "source": [
        "h0 = mean = 5\n",
        "std dev = 0.5\n",
        "n = 25\n",
        "x-bar = 4.8\n",
        "h1 = std dev < 5\n",
        "alpha = 0.01\n"
      ],
      "metadata": {
        "id": "QiuwfF_RH3lK"
      }
    },
    {
      "cell_type": "markdown",
      "source": [
        "Q16. Two groups of students are given different study materials to prepare for a test. The first group (n1 =\n",
        "30) has a mean score of 80 with a standard deviation of 10, and the second group (n2 = 40) has a mean\n",
        "score of 75 with a standard deviation of 8. Test the hypothesis that the population means for the two\n",
        "groups are equal with a significance level of 0.01."
      ],
      "metadata": {
        "id": "ob9vJ0NiODEO"
      }
    },
    {
      "cell_type": "markdown",
      "source": [
        "To test the hypothesis that the population means for the two groups are equal, we can use a two-sample t-test with the null hypothesis being:\n",
        "\n",
        "H0: µ1 = µ2 (population means for the two groups are equal)\n",
        "\n",
        "The alternative hypothesis would be:\n",
        "\n",
        "Ha: µ1 ≠ µ2 (population means for the two groups are not equal)\n",
        "\n",
        "We will use a significance level of 0.01, which corresponds to a confidence level of 99%.\n",
        "\n",
        "The test statistic for the two-sample t-test is calculated as:\n",
        "\n",
        "t = (x̄1 - x̄2) / (s12/n1 + s22/n2)1/2\n",
        "\n",
        "where x̄1 and x̄2 are the sample means, s1 and s2 are the sample standard deviations, and n1 and n2 are the sample sizes.\n",
        "\n",
        "Substituting the given values, we get:\n",
        "\n",
        "t = (80 - 75) / ((10^2/30) + (8^2/40))^1/2\n",
        "= 3.118\n",
        "\n",
        "Using a t-distribution table with 68 degrees of freedom (calculated as (n1 - 1) + (n2 - 1)), we find the critical values of t for a two-tailed test with a significance level of 0.01. The critical values are ±2.610.\n",
        "\n",
        "Since our calculated t-value of 3.118 is greater than the critical value of 2.610, we can reject the null hypothesis at the 0.01 significance level and conclude that there is evidence to suggest that the population means for the two groups are not equal."
      ],
      "metadata": {
        "id": "Xqc26rpBOEgo"
      }
    },
    {
      "cell_type": "markdown",
      "source": [
        "Q17. A marketing company wants to estimate the average number of ads watched by viewers during a TV\n",
        "program. They take a random sample of 50 viewers and find that the sample mean is 4 with a standard\n",
        "deviation of 1.5. Estimate the population mean with a 99% confidence interval."
      ],
      "metadata": {
        "id": "WNyUmdFhOKzj"
      }
    },
    {
      "cell_type": "markdown",
      "source": [
        "To estimate the population mean with a 99% confidence interval, we can use the following formula:\n",
        "\n",
        "Confidence interval = sample mean ± (critical value x standard error)\n",
        "\n",
        "Where the critical value is obtained from the t-distribution table for a given level of confidence and degrees of freedom, and the standard error is calculated as:\n",
        "\n",
        "Standard error = standard deviation / √n\n",
        "\n",
        "Here, we have:\n",
        "\n",
        "Sample mean (x̄) = 4\n",
        "Standard deviation (s) = 1.5\n",
        "Sample size (n) = 50\n",
        "\n",
        "Using the formula for standard error:\n",
        "\n",
        "Standard error = 1.5 / √50 = 0.212\n",
        "\n",
        "To find the critical value for a 99% confidence interval with 49 degrees of freedom (n-1), we can use a t-distribution table or a calculator. From the table, the critical value is 2.680.\n",
        "\n",
        "Substituting the values in the formula for confidence interval:\n",
        "\n",
        "Confidence interval = 4 ± (2.680 x 0.212)\n",
        "\n",
        "Confidence interval = [3.44, 4.56]\n",
        "\n",
        "Therefore, we can say with 99% confidence that the population mean of the number of ads watched by viewers during a TV program lies between 3.44 and 4.56."
      ],
      "metadata": {
        "id": "CTWaifaxOOWV"
      }
    },
    {
      "cell_type": "markdown",
      "source": [],
      "metadata": {
        "id": "h6bkkWOIUpq4"
      }
    }
  ]
}