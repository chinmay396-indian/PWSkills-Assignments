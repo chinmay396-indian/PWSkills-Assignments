{
  "nbformat": 4,
  "nbformat_minor": 0,
  "metadata": {
    "colab": {
      "provenance": [],
      "authorship_tag": "ABX9TyNrRBQo5SNYiSBSYmeCvSg1",
      "include_colab_link": true
    },
    "kernelspec": {
      "name": "python3",
      "display_name": "Python 3"
    },
    "language_info": {
      "name": "python"
    }
  },
  "cells": [
    {
      "cell_type": "markdown",
      "metadata": {
        "id": "view-in-github",
        "colab_type": "text"
      },
      "source": [
        "<a href=\"https://colab.research.google.com/github/chinmay396-indian/PWSkills-Assignments/blob/main/Untitled3.ipynb\" target=\"_parent\"><img src=\"https://colab.research.google.com/assets/colab-badge.svg\" alt=\"Open In Colab\"/></a>"
      ]
    },
    {
      "cell_type": "markdown",
      "source": [
        "Q1. What are the three measures of central tendency?"
      ],
      "metadata": {
        "id": "Pz9JzhD9gVd6"
      }
    },
    {
      "cell_type": "markdown",
      "source": [
        "The 3 measures of Central Tendency are \n",
        "Mean, Median and Mode"
      ],
      "metadata": {
        "id": "yxSk3K1AgpLP"
      }
    },
    {
      "cell_type": "markdown",
      "source": [
        "Q2. What is the difference between the mean, median, and mode? How are they used to measure the\n",
        "central tendency of a dataset?"
      ],
      "metadata": {
        "id": "S6vNIBNogvbj"
      }
    },
    {
      "cell_type": "markdown",
      "source": [
        "Mean: Mean is an arithmetic operation which is calculated by summing up all the values and then dividing the same by the total number of values in the same dtaset.\n",
        "Median: Median is the middle value in a dataset. when the count of the dataset is even, then the median is calculated using the average of two middle values. if the count is odd, then the median is simply the middle value in the dataset.\n",
        "Mode: Mode is the highest occurring value the dataset. It is mostly used in nominal dataset values."
      ],
      "metadata": {
        "id": "ujZ7t24chFg2"
      }
    },
    {
      "cell_type": "markdown",
      "source": [
        "Q3. Measure the three measures of central tendency for the given height data:\n",
        "[178,177,176,177,178.2,178,175,179,180,175,178.9,176.2,177,172.5,178,176.5]"
      ],
      "metadata": {
        "id": "N9JGhphmiLN-"
      }
    },
    {
      "cell_type": "code",
      "source": [
        "A = [178,177,176,177,178.2,178,175,179,180,175,178.9,176.2,177,172.5,178,176.5]\n",
        "import numpy as np\n",
        "from scipy import stats\n",
        "np.mean(A)\n",
        "np.median(A)\n",
        "stats.mode(A)"
      ],
      "metadata": {
        "colab": {
          "base_uri": "https://localhost:8080/"
        },
        "id": "O_f9ulXxiMrG",
        "outputId": "b32ce49e-5350-4ea8-be1a-6b580ce2c7ed"
      },
      "execution_count": null,
      "outputs": [
        {
          "output_type": "stream",
          "name": "stderr",
          "text": [
            "<ipython-input-10-debcbee0b103>:6: FutureWarning: Unlike other reduction functions (e.g. `skew`, `kurtosis`), the default behavior of `mode` typically preserves the axis it acts along. In SciPy 1.11.0, this behavior will change: the default value of `keepdims` will become False, the `axis` over which the statistic is taken will be eliminated, and the value None will no longer be accepted. Set `keepdims` to True or False to avoid this warning.\n",
            "  stats.mode(A)\n"
          ]
        },
        {
          "output_type": "execute_result",
          "data": {
            "text/plain": [
              "ModeResult(mode=array([177.]), count=array([3]))"
            ]
          },
          "metadata": {},
          "execution_count": 10
        }
      ]
    },
    {
      "cell_type": "markdown",
      "source": [
        "Q4. Find the standard deviation for the given data:\n",
        "[178,177,176,177,178.2,178,175,179,180,175,178.9,176.2,177,172.5,178,176.5]"
      ],
      "metadata": {
        "id": "tssVsv9mlmo2"
      }
    },
    {
      "cell_type": "code",
      "source": [
        "A = [178,177,176,177,178.2,178,175,179,180,175,178.9,176.2,177,172.5,178,176.5]\n",
        "import numpy as np\n",
        "np.std(A)"
      ],
      "metadata": {
        "colab": {
          "base_uri": "https://localhost:8080/"
        },
        "id": "cBjztOczlpXf",
        "outputId": "3b1cf4b8-ad48-485e-886d-f52b3d3df194"
      },
      "execution_count": null,
      "outputs": [
        {
          "output_type": "execute_result",
          "data": {
            "text/plain": [
              "1.7885814036548633"
            ]
          },
          "metadata": {},
          "execution_count": 11
        }
      ]
    },
    {
      "cell_type": "markdown",
      "source": [
        "Q5. How are measures of dispersion such as range, variance, and standard deviation used to describe\n",
        "the spread of a dataset? Provide an example."
      ],
      "metadata": {
        "id": "ePedtBvUl4xe"
      }
    },
    {
      "cell_type": "markdown",
      "source": [
        "Measures of dispersion such as range, variance, and standard deviation are used to describe the spread or variability of a dataset. They provide information about how spread out the data points are from the central tendency (mean, median, or mode) of the dataset.\n",
        "\n",
        "The range is the simplest measure of dispersion and is calculated by subtracting the minimum value from the maximum value in the dataset. It represents the total spread of the data but is affected by outliers and is not very robust.\n",
        "\n",
        "The variance is a measure of how much the data points deviate from the mean of the dataset. It is calculated by taking the average of the squared differences between each data point and the mean of the dataset. The variance is always positive and is sensitive to outliers.\n",
        "\n",
        "The standard deviation is the square root of the variance and provides a measure of dispersion in the same units as the original data. It is widely used because it is more interpretable than the variance and is easier to work with in statistical calculations."
      ],
      "metadata": {
        "id": "Zl0OQ1MMnyxm"
      }
    },
    {
      "cell_type": "markdown",
      "source": [
        "Q6. What is a Venn diagram?"
      ],
      "metadata": {
        "id": "8Ct8XIpCoU-b"
      }
    },
    {
      "cell_type": "markdown",
      "source": [
        "A Venn diagram is a visual representation of the relationships between sets, groups, or categories. It consists of a series of overlapping circles, where each circle represents a set and the overlapping regions represent the elements that belong to multiple sets. The size of each circle is usually proportional to the size of the set it represents.\n",
        "\n",
        "Venn diagrams are commonly used to illustrate set operations such as union, intersection, and complement. The union of two sets is the set of elements that belong to either one or both sets, represented by the region where the circles overlap. The intersection of two sets is the set of elements that belong to both sets, represented by the area where the circles overlap. The complement of a set is the set of elements that do not belong to the set, represented by the area outside the circles.\n",
        "\n",
        "Venn diagrams can also be used to compare and contrast different groups or categories, and to identify similarities and differences between them. They are widely used in a variety of fields, including mathematics, statistics, logic, and computer science, as well as in areas such as business, marketing, and education.\n",
        "\n",
        "Overall, Venn diagrams are a useful tool for visualizing and understanding the relationships between sets, groups, or categories, and for illustrating set operations and comparisons in a clear and concise manner."
      ],
      "metadata": {
        "id": "sMKE1z_HoWlm"
      }
    },
    {
      "cell_type": "markdown",
      "source": [
        "Q7. For the two given sets A = (2,3,4,5,6,7) & B = (0,2,6,8,10). Find:\n",
        "(i) A U B\n",
        "(ii) A ⋃ B"
      ],
      "metadata": {
        "id": "18_P6KGSpRYg"
      }
    },
    {
      "cell_type": "markdown",
      "source": [
        "A intersection B is 2,6\n",
        "A union B is 0,2,3,4,5,6,7,8,10"
      ],
      "metadata": {
        "id": "FN4Vm6dwqjw5"
      }
    },
    {
      "cell_type": "markdown",
      "source": [
        "Q8. What do you understand about skewness in data?"
      ],
      "metadata": {
        "id": "Z0n8pVKLqlhh"
      }
    },
    {
      "cell_type": "markdown",
      "source": [
        "Skewness represents the symmetry of the distribution. When distribution is positively skewed, the mean is greater than median. whereas, if the distribution is negatively skewed, mean is lesser than median"
      ],
      "metadata": {
        "id": "qVMS_LwprJho"
      }
    },
    {
      "cell_type": "markdown",
      "source": [
        "Q10. Explain the difference between covariance and correlation. How are these measures used in\n",
        "statistical analysis?"
      ],
      "metadata": {
        "id": "G4X7OKjTsE8n"
      }
    },
    {
      "cell_type": "markdown",
      "source": [
        "Covariance and Correlation is a statistical method of representing the relationship between two variables.\n",
        "Covariance is the calculated by the product of the deviation of both the varibles from their mean and dividing the same by the n-1. +ve covariance represents that the variables are moving in same direction while negative covariance represents that the variables are moving in opposite direcltion. Although, Covariance shows the relationship but it gets affected by the scale.\n",
        "\n",
        "Correlation is the more effective and standardised measure of calculating the relationship between two variables. Correlation have values ranging from -1 to +1. When the coefficient is towards is greater than 0, it represents that the variables are in the same direction, whereas towards -1 represents that variables are in opposite direction."
      ],
      "metadata": {
        "id": "nupu5B3wvvBL"
      }
    },
    {
      "cell_type": "markdown",
      "source": [
        "Q11. What is the formula for calculating the sample mean? Provide an example calculation for a\n",
        "dataset."
      ],
      "metadata": {
        "id": "684d678x0cST"
      }
    },
    {
      "cell_type": "markdown",
      "source": [
        "The formula for calculating the sample mean is:\n",
        "\n",
        "sample mean = (sum of all observations) / (sample size)\n",
        "\n",
        "In other words, to calculate the sample mean, we sum up all the observations in the dataset and divide the sum by the sample size.\n",
        "\n",
        "For example, let's say we have the following dataset:\n",
        "\n",
        "5, 7, 9, 11, 13\n",
        "\n",
        "To find the sample mean of this dataset, we add up all the observations and divide by the sample size:\n",
        "\n",
        "sample mean = (5 + 7 + 9 + 11 + 13) / 5\n",
        "sample mean = 45 / 5\n",
        "sample mean = 9"
      ],
      "metadata": {
        "id": "fkRA-F3L0vDj"
      }
    },
    {
      "cell_type": "markdown",
      "source": [],
      "metadata": {
        "id": "uMaMXtYBqBuF"
      }
    },
    {
      "cell_type": "code",
      "source": [],
      "metadata": {
        "id": "vF5qjInFqDHU"
      },
      "execution_count": null,
      "outputs": []
    },
    {
      "cell_type": "markdown",
      "source": [
        "Q12. For a normal distribution data what is the relationship between its measure of central tendency?"
      ],
      "metadata": {
        "id": "Q-vByHZ508BB"
      }
    },
    {
      "cell_type": "markdown",
      "source": [
        "In Normal distribution, the mean, median and mode are equivalent to each other."
      ],
      "metadata": {
        "id": "RxY5CzAM0-SX"
      }
    },
    {
      "cell_type": "markdown",
      "source": [
        "Q13. How is covariance different from correlation?"
      ],
      "metadata": {
        "id": "l-J2gB6p1Ih8"
      }
    },
    {
      "cell_type": "markdown",
      "source": [
        "Covariance and Correlation is a statistical method of representing the relationship between two variables. Covariance is the calculated by the product of the deviation of both the varibles from their mean and dividing the same by the n-1. +ve covariance represents that the variables are moving in same direction while negative covariance represents that the variables are moving in opposite direcltion. Although, Covariance shows the relationship but it gets affected by the scale.\n",
        "\n",
        "Correlation is the more effective and standardised measure of calculating the relationship between two variables. Correlation have values ranging from -1 to +1. When the coefficient is towards is greater than 0, it represents that the variables are in the same direction, whereas towards -1 represents that variables are in opposite direction."
      ],
      "metadata": {
        "id": "5MvSadZPpU1R"
      }
    },
    {
      "cell_type": "markdown",
      "source": [
        "Q14. How do outliers affect measures of central tendency and dispersion? Provide an example."
      ],
      "metadata": {
        "id": "HM0pqLU62Yqu"
      }
    },
    {
      "cell_type": "markdown",
      "source": [
        "Outliers are data points that are significantly different from the other observations in a dataset. Outliers can have a significant impact on measures of central tendency and dispersion, such as the mean, median, range, variance, and standard deviation.\n",
        "\n",
        "Outliers can affect the mean, which is a measure of central tendency, by pulling it towards the direction of the outlier. This can lead to an inaccurate representation of the typical value of the data. The median, on the other hand, is not affected as much by outliers since it is not sensitive to extreme values.\n",
        "\n",
        "Outliers can also affect measures of dispersion, such as the range, variance, and standard deviation. The range, which is the difference between the maximum and minimum values in a dataset, can be greatly affected by outliers. Outliers can also increase the variance and standard deviation of a dataset, which can make it difficult to determine the typical spread of the data.\n",
        "\n",
        "For example, consider the following dataset of salaries in a company:\n",
        "\n",
        "$40,000, $45,000, $50,000, $55,000, $60,000, $65,000, $70,000, $75,000, $80,000, $500,000\n",
        "\n",
        "In this dataset, the salary of $500,000 is an outlier since it is significantly higher than the other salaries. The mean salary for this dataset is $88,500, but this value is heavily influenced by the outlier. The median salary, which is $62,500, is a better representation of the typical salary in this company. The range for this dataset is $460,000, which is also greatly affected by the outlier. Similarly, the variance and standard deviation for this dataset are much larger due to the outlier, making it difficult to determine the typical spread of salaries in the company."
      ],
      "metadata": {
        "id": "pRTlC3vl2asJ"
      }
    }
  ]
}